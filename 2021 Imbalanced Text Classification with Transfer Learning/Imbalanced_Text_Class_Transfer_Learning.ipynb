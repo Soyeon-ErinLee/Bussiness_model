{
  "nbformat": 4,
  "nbformat_minor": 0,
  "metadata": {
    "accelerator": "GPU",
    "colab": {
      "name": "Imbalanced Text Class_Transfer Learning.ipynb",
      "provenance": [],
      "collapsed_sections": [],
      "mount_file_id": "1K0MUmAnX5qqmKWdcPiz9auewis-qFMna",
      "authorship_tag": "ABX9TyOLP6HKbxoBKLSQAi4jsrfu"
    },
    "kernelspec": {
      "display_name": "Python 3",
      "name": "python3"
    },
    "language_info": {
      "name": "python"
    }
  },
  "cells": [
    {
      "cell_type": "code",
      "metadata": {
        "id": "a7gafaCY23r6"
      },
      "source": [
        "import matplotlib.pyplot as plt\n",
        "import nltk\n",
        "import numpy as np\n",
        "import pandas as pd\n",
        "import seaborn as sns\n",
        "import re\n",
        "from nltk.corpus import stopwords\n",
        "from nltk.stem import WordNetLemmatizer\n",
        "import matplotlib.pyplot as plt\n",
        "import seaborn as sns\n",
        "%matplotlib notebook\n",
        "%matplotlib inline\n",
        "from sklearn.linear_model import LogisticRegression\n",
        "from sklearn.feature_extraction import text\n",
        "import warnings\n",
        "warnings.filterwarnings(\"ignore\")\n",
        "import string\n",
        "from tqdm import tqdm\n",
        "from bs4 import BeautifulSoup\n",
        "from sklearn.feature_extraction.text import TfidfVectorizer\n",
        "from sklearn.feature_extraction.text import CountVectorizer\n",
        "from sklearn.preprocessing import Normalizer\n",
        "from sklearn.model_selection import GridSearchCV,train_test_split\n",
        "from sklearn.metrics import confusion_matrix\n",
        "from sklearn import metrics\n",
        "from sklearn.metrics import roc_curve, roc_auc_score, auc, average_precision_score, precision_recall_curve, plot_precision_recall_curve, f1_score\n",
        "from wordcloud import WordCloud\n",
        "from sklearn.svm import SVC\n",
        "from sklearn.tree import DecisionTreeClassifier\n",
        "from sklearn.ensemble import RandomForestClassifier\n",
        "import statsmodels.api as sm\n",
        "from scipy import stats\n",
        "from sklearn.decomposition import PCA\n",
        "from tensorflow.keras.models import Sequential\n",
        "from tensorflow.keras.callbacks import EarlyStopping\n",
        "from tensorflow.keras.models import Sequential\n",
        "from tensorflow.keras.layers import Embedding,Bidirectional, Dense, LSTM, SimpleRNN, Conv1D,MaxPooling1D, GlobalMaxPooling1D, Dense, Dropout\n",
        "from tensorflow.keras.preprocessing.text import Tokenizer\n",
        "from tensorflow.keras.preprocessing.sequence import pad_sequences\n",
        "from tensorflow.keras.preprocessing import sequence\n",
        "import random\n",
        "from tensorflow.keras.preprocessing import sequence\n",
        "from tensorflow.keras.layers import Embedding, Bidirectional, Dense, LSTM\n",
        "from tensorflow.keras.models import Sequential\n",
        "from fastai.text import *"
      ],
      "execution_count": null,
      "outputs": []
    },
    {
      "cell_type": "code",
      "metadata": {
        "colab": {
          "base_uri": "https://localhost:8080/",
          "height": 215
        },
        "id": "npsWnsctPS4E",
        "outputId": "9b09fe5a-64f4-4eca-b823-fad48e04732b"
      },
      "source": [
        "path = untar_data(URLs.IMDB_SAMPLE)\n",
        "df = pd.read_csv(path/'texts.csv') \n",
        "df.head()"
      ],
      "execution_count": null,
      "outputs": [
        {
          "output_type": "stream",
          "text": [
            "Downloading http://files.fast.ai/data/examples/imdb_sample.tgz\n"
          ],
          "name": "stdout"
        },
        {
          "output_type": "display_data",
          "data": {
            "text/html": [
              ""
            ],
            "text/plain": [
              "<IPython.core.display.HTML object>"
            ]
          },
          "metadata": {
            "tags": []
          }
        },
        {
          "output_type": "execute_result",
          "data": {
            "text/html": [
              "<div>\n",
              "<style scoped>\n",
              "    .dataframe tbody tr th:only-of-type {\n",
              "        vertical-align: middle;\n",
              "    }\n",
              "\n",
              "    .dataframe tbody tr th {\n",
              "        vertical-align: top;\n",
              "    }\n",
              "\n",
              "    .dataframe thead th {\n",
              "        text-align: right;\n",
              "    }\n",
              "</style>\n",
              "<table border=\"1\" class=\"dataframe\">\n",
              "  <thead>\n",
              "    <tr style=\"text-align: right;\">\n",
              "      <th></th>\n",
              "      <th>label</th>\n",
              "      <th>text</th>\n",
              "      <th>is_valid</th>\n",
              "    </tr>\n",
              "  </thead>\n",
              "  <tbody>\n",
              "    <tr>\n",
              "      <th>0</th>\n",
              "      <td>negative</td>\n",
              "      <td>Un-bleeping-believable! Meg Ryan doesn't even ...</td>\n",
              "      <td>False</td>\n",
              "    </tr>\n",
              "    <tr>\n",
              "      <th>1</th>\n",
              "      <td>positive</td>\n",
              "      <td>This is a extremely well-made film. The acting...</td>\n",
              "      <td>False</td>\n",
              "    </tr>\n",
              "    <tr>\n",
              "      <th>2</th>\n",
              "      <td>negative</td>\n",
              "      <td>Every once in a long while a movie will come a...</td>\n",
              "      <td>False</td>\n",
              "    </tr>\n",
              "    <tr>\n",
              "      <th>3</th>\n",
              "      <td>positive</td>\n",
              "      <td>Name just says it all. I watched this movie wi...</td>\n",
              "      <td>False</td>\n",
              "    </tr>\n",
              "    <tr>\n",
              "      <th>4</th>\n",
              "      <td>negative</td>\n",
              "      <td>This movie succeeds at being one of the most u...</td>\n",
              "      <td>False</td>\n",
              "    </tr>\n",
              "  </tbody>\n",
              "</table>\n",
              "</div>"
            ],
            "text/plain": [
              "      label                                               text  is_valid\n",
              "0  negative  Un-bleeping-believable! Meg Ryan doesn't even ...     False\n",
              "1  positive  This is a extremely well-made film. The acting...     False\n",
              "2  negative  Every once in a long while a movie will come a...     False\n",
              "3  positive  Name just says it all. I watched this movie wi...     False\n",
              "4  negative  This movie succeeds at being one of the most u...     False"
            ]
          },
          "metadata": {
            "tags": []
          },
          "execution_count": 3
        }
      ]
    },
    {
      "cell_type": "code",
      "metadata": {
        "colab": {
          "base_uri": "https://localhost:8080/",
          "height": 72
        },
        "id": "H7dnckDnPS7g",
        "outputId": "dcecd7c8-8bfd-46a7-e6de-d3392e0221df"
      },
      "source": [
        "data_lm = TextLMDataBunch.from_csv(path, 'texts.csv')"
      ],
      "execution_count": null,
      "outputs": [
        {
          "output_type": "display_data",
          "data": {
            "text/html": [
              ""
            ],
            "text/plain": [
              "<IPython.core.display.HTML object>"
            ]
          },
          "metadata": {
            "tags": []
          }
        },
        {
          "output_type": "stream",
          "text": [
            "/usr/local/lib/python3.7/dist-packages/fastai/core.py:302: VisibleDeprecationWarning: Creating an ndarray from ragged nested sequences (which is a list-or-tuple of lists-or-tuples-or ndarrays with different lengths or shapes) is deprecated. If you meant to do this, you must specify 'dtype=object' when creating the ndarray\n",
            "  return np.array(a, dtype=dtype, **kwargs)\n"
          ],
          "name": "stderr"
        },
        {
          "output_type": "display_data",
          "data": {
            "text/html": [
              ""
            ],
            "text/plain": [
              "<IPython.core.display.HTML object>"
            ]
          },
          "metadata": {
            "tags": []
          }
        }
      ]
    },
    {
      "cell_type": "code",
      "metadata": {
        "colab": {
          "base_uri": "https://localhost:8080/",
          "height": 16
        },
        "id": "PL_ZgboHPnU8",
        "outputId": "1fbb6ba6-c8a7-4ce0-b905-bcfe5d8fce3a"
      },
      "source": [
        "data_clas = TextClasDataBunch.from_csv(path, 'texts.csv', vocab=data_lm.train_ds.vocab, bs=32)"
      ],
      "execution_count": null,
      "outputs": [
        {
          "output_type": "display_data",
          "data": {
            "text/html": [
              ""
            ],
            "text/plain": [
              "<IPython.core.display.HTML object>"
            ]
          },
          "metadata": {
            "tags": []
          }
        },
        {
          "output_type": "display_data",
          "data": {
            "text/html": [
              ""
            ],
            "text/plain": [
              "<IPython.core.display.HTML object>"
            ]
          },
          "metadata": {
            "tags": []
          }
        }
      ]
    },
    {
      "cell_type": "code",
      "metadata": {
        "colab": {
          "base_uri": "https://localhost:8080/",
          "height": 95
        },
        "id": "6yOK6I1PPnW7",
        "outputId": "f1fe359a-ca61-4243-a02f-62849b95cc8b"
      },
      "source": [
        "from fastai.text import *\n",
        "data_lm = TextLMDataBunch.from_csv(path, 'texts.csv')\n",
        "learn = language_model_learner(data_lm, AWD_LSTM, drop_mult=0.5) \n",
        "learn.fit_one_cycle(1, 1e-2)"
      ],
      "execution_count": null,
      "outputs": [
        {
          "output_type": "stream",
          "text": [
            "Downloading https://s3.amazonaws.com/fast-ai-modelzoo/wt103-fwd.tgz\n"
          ],
          "name": "stdout"
        },
        {
          "output_type": "display_data",
          "data": {
            "text/html": [
              ""
            ],
            "text/plain": [
              "<IPython.core.display.HTML object>"
            ]
          },
          "metadata": {
            "tags": []
          }
        },
        {
          "output_type": "display_data",
          "data": {
            "text/html": [
              "<table border=\"1\" class=\"dataframe\">\n",
              "  <thead>\n",
              "    <tr style=\"text-align: left;\">\n",
              "      <th>epoch</th>\n",
              "      <th>train_loss</th>\n",
              "      <th>valid_loss</th>\n",
              "      <th>accuracy</th>\n",
              "      <th>time</th>\n",
              "    </tr>\n",
              "  </thead>\n",
              "  <tbody>\n",
              "    <tr>\n",
              "      <td>0</td>\n",
              "      <td>4.318018</td>\n",
              "      <td>3.939437</td>\n",
              "      <td>0.277202</td>\n",
              "      <td>00:09</td>\n",
              "    </tr>\n",
              "  </tbody>\n",
              "</table>"
            ],
            "text/plain": [
              "<IPython.core.display.HTML object>"
            ]
          },
          "metadata": {
            "tags": []
          }
        }
      ]
    },
    {
      "cell_type": "code",
      "metadata": {
        "colab": {
          "base_uri": "https://localhost:8080/"
        },
        "id": "PPfdJqloPnZi",
        "outputId": "f94a6d8e-1b8a-48d9-ae41-f2ce2f003ff5"
      },
      "source": [
        "learn.model"
      ],
      "execution_count": null,
      "outputs": [
        {
          "output_type": "execute_result",
          "data": {
            "text/plain": [
              "SequentialRNN(\n",
              "  (0): AWD_LSTM(\n",
              "    (encoder): Embedding(8896, 400, padding_idx=1)\n",
              "    (encoder_dp): EmbeddingDropout(\n",
              "      (emb): Embedding(8896, 400, padding_idx=1)\n",
              "    )\n",
              "    (rnns): ModuleList(\n",
              "      (0): WeightDropout(\n",
              "        (module): LSTM(400, 1152, batch_first=True)\n",
              "      )\n",
              "      (1): WeightDropout(\n",
              "        (module): LSTM(1152, 1152, batch_first=True)\n",
              "      )\n",
              "      (2): WeightDropout(\n",
              "        (module): LSTM(1152, 400, batch_first=True)\n",
              "      )\n",
              "    )\n",
              "    (input_dp): RNNDropout()\n",
              "    (hidden_dps): ModuleList(\n",
              "      (0): RNNDropout()\n",
              "      (1): RNNDropout()\n",
              "      (2): RNNDropout()\n",
              "    )\n",
              "  )\n",
              "  (1): LinearDecoder(\n",
              "    (decoder): Linear(in_features=400, out_features=8896, bias=True)\n",
              "    (output_dp): RNNDropout()\n",
              "  )\n",
              ")"
            ]
          },
          "metadata": {
            "tags": []
          },
          "execution_count": 8
        }
      ]
    },
    {
      "cell_type": "code",
      "metadata": {
        "id": "F98M28xv79vm"
      },
      "source": [
        "learn.save_encoder('encoder')"
      ],
      "execution_count": null,
      "outputs": []
    },
    {
      "cell_type": "code",
      "metadata": {
        "colab": {
          "base_uri": "https://localhost:8080/"
        },
        "id": "OeNyLDusdeSg",
        "outputId": "32f757de-dac4-47e0-a309-0341d5de4b4f"
      },
      "source": [
        "# Classifier model data\n",
        "data_clas = TextClasDataBunch.from_df(path = \"\", train_df = data, valid_df = data_test, vocab=data_lm.train_ds.vocab, bs=32)\n",
        "clas_model = text_classifier_learner(data_clas, AWD_LSTM, drop_mult=0.5)\n",
        "clas_model.fit_one_cycle(5,6.31E-07,moms=(0.8,0.7))\n",
        "clas_model.load_encoder('encoder')\n",
        "train_tf = x_train.apply(lambda row:str(clas_model.predict(row)[0]))\n",
        "\n",
        "precision, recall, thresholds = precision_recall_curve(y_train, train_tf)\n",
        "auc_precision_recall = auc(recall, precision)\n",
        "print(\"Train:\\n\",\"F1 score(micro) / F1 score(macro) / PR-AUC / ROC-AUC \\n\",round(f1_score(y_train,train_tf, average=\"micro\"),5),'        /' ,\n",
        "      round(f1_score(y_train,train_tf, average=\"macro\"),5),'   /' ,\n",
        "      round(auc_precision_recall,5), '    /' ,round(roc_auc_score(y_train,train_tf),5))\n",
        "\n",
        "test_tf = x_test.apply(lambda row:str(clas_model.predict(row)[0]))\n",
        "precision, recall, thresholds = precision_recall_curve(y_test, test_tf)\n",
        "auc_precision_recall = auc(recall, precision)\n",
        "print(\"Test:\\n\",\"F1 score(micro) / F1 score(macro) / PR-AUC / ROC-AUC \\n\",round(f1_score(y_test,test_tf, average=\"micro\"),5),'        /' ,\n",
        "      round(f1_score(y_test,test_tf, average=\"macro\"),5),'   /' ,\n",
        "      round(auc_precision_recall,5), '    /' ,round(roc_auc_score(y_test,test_tf),5))"
      ],
      "execution_count": null,
      "outputs": [
        {
          "output_type": "execute_result",
          "data": {
            "text/plain": [
              "RNNLearner(data=TextClasDataBunch;\n",
              "\n",
              "Train: LabelList (799 items)\n",
              "x: TextList\n",
              "xxbos xxmaj only the chosen ones will appreciate the quality of the story and character design of this movie . xxmaj superior xxunk that dwell in the lands of xxunk far beyond any average human creature 's understanding . xxmaj this movie pulls the adventure genre into a unique xxunk magical force of fantasy xxunk thee mystical xxunk of chalice . xxmaj stories come and go , but the idea for a good story is to think positive , not negative thoughts . xxmaj to create a good versus evil battle like never before . xxmaj embracing an xxunk shimmering process that keeps imagination glowing in one dimension and out the other . xxmaj striking a quick flash of energy that xxunk a human to another world .,xxbos i 'm so confused . i 've been a huge xxmaj seagal fan for 25 years . i 've seen all of his films , and many of those dozens of times . i can only describe this film as \" bizarre . \" xxmaj steven xxmaj seagal shares screenplay writing and producing credits on this film , but i have a really tough time believing he would choose to dub over his own voice for so many of his lines , with a thin , whiny xxunk 's voice no less . xxmaj what i also do n't get is , if they had to dub xxup some of his lines , why does his own voice appear on the rest of them ? i expect xxmaj seagal to age like the rest of us . xxmaj but the xxmaj seagal in this movie barely xxunk a xxunk of the same xxunk , confidence , bravado , charm , and sex - appeal he so easily showed us in xxup all of his previous movies . xxmaj what i found myself missing most of all was his xxunk , self - assured attitude and his bad - ass xxunk that so easily shifts into that adorable grin . xxmaj where is that in - your - face attitude and charm that made him such a huge star ? ? ? i hope that this film is not an indication of what xxmaj seagal has left to offer us - if so , his lifelong fans will have to xxunk that the xxmaj seagal we all knew and loved is gone .,xxbos xxmaj for those fans of xxmaj laurel and xxmaj hardy , the 1940s and beyond were a very sad time for the team . xxmaj their xxunk with xxmaj xxunk xxmaj roach xxmaj studios had xxunk and now they were \" free xxunk to work for any studio who offered them a job . xxmaj unfortunately , xxmaj fox , xxup rko , xxup mgm ( without xxmaj roach ) and even a xxmaj french film company who hired the boys had absolutely no touch for their comedic talents . xxmaj plus , xxmaj stan and xxmaj ollie were a lot older and seeing these xxunk men taking xxunk seemed sad , not particularly funny . xxmaj stan looked very ragged and xxmaj ollie 's weight had xxunk up to the point where he could barely walk -- and so it made me feel uncomfortable laughing at their very , very xxunk antics . \n",
              " \n",
              "  xxmaj in addition to their age , this particular film suffers because xxmaj fox xxmaj studios oddly cast them in a supporting role and created a parallel plot involving a young couple -- something that reduced their time on screen xxup and turned them into insipid \" xxunk on \" instead of just being themselves . a cute and xxunk xxmaj stan and xxmaj ollie is very foreign to the old xxmaj laurel and xxmaj hardy of the xxunk and 30s -- and just seemed awfully strange and suited them poorly . \n",
              " \n",
              "  xxmaj now even with their age , this xxup could have been a decent movie if it had been given decent writing and if it appeared the studio cared -- and it 's quite obvious they were using the \" b unit \" here -- with , at best , second class support . xxmaj in particular , there are very few laughs and the last 10 minutes of the film is simply dreadful -- xxunk xxunk on a sloppy rear - projected screen for the stupid chase scene -- which might just rank as one of the worst of its kind in film history . \n",
              " \n",
              "  xxmaj for mind - xxunk zombie lovers of xxmaj laurel and xxmaj hardy , it 's probably a film they will love . xxmaj but , for lovers of the team who are willing to honestly evaluate this film relative to their amazing earlier films , it simply comes up wanting indeed . xxmaj in fact , of all their full - length films xxunk , i ca n't think of one i liked less than xxup dancing xxup masters . xxmaj unfortunately , of the xxunk films , this might just be one of their better ones . xxmaj sadly , it got a lot worse -- with wretched films like xxup the xxup big xxup noise and xxup nothing xxup but xxup trouble . i just wish the boys had just retired after xxup xxunk xxup at xxup sea . \n",
              " \n",
              "  xxmaj finally , i wonder if all the generally positive reviews for this film on imdb might reflect the reviewers ' love of the team more than it 's an indication that this is a good film ? xxmaj for an audience who are xxup not already in love with the team , i do n't know xxup how this film will do anything but bore the audience -- it certainly xxup xxunk convince anyone that xxmaj laurel and xxmaj hardy were comedic geniuses . xxmaj but even comedic geniuses need material worthy of their talents .,xxbos xxmaj it 's this sort of movie that you try and xxunk . xxmaj by attempting to realise something ... then flying through the air almost immediately . i 'd like to do that and i know you would too ! \n",
              " \n",
              "  xxmaj great stuff !,xxbos xxmaj this movie had good intentions and a good story to work with . xxmaj the director and screenwriter of this movie failed miserably and created a dull , boring xxunk that made me feel like i was back in xxmaj mr. xxmaj xxunk 's 8th grade xxmaj social xxmaj studies class -- way back in xxunk . \n",
              " \n",
              "  xxmaj what a waste , will somebody please take this story and make a real movie out of it - the story deserves it . \n",
              " \n",
              "  xxmaj every time a scene had potential , all we were left with were a few clichés , combined with black and white footage that they probably got from xxmaj the xxmaj history xxmaj channel to show the action . xxmaj xxunk . \n",
              " \n",
              "  xxmaj xxunk xxmaj davis was the only bright light in this dull xxunk . xxmaj the other acting was incredibly dull - it fit in with the movie well and xxunk played the xxmaj captain set a new low standard for line delivery . \n",
              " \n",
              "  xxmaj however , if you are willing to accept all the numerous flaws in this movie and are n't concerned with being xxunk or entertained , but want to learn about the xxup xxunk xxmaj mason , it is worth a watch .\n",
              "y: CategoryList\n",
              "positive,negative,negative,positive,negative\n",
              "Path: /root/.fastai/data/imdb_sample;\n",
              "\n",
              "Valid: LabelList (201 items)\n",
              "x: TextList\n",
              "xxbos xxmaj back in the forties , when movies touched on matters not yet xxunk in \" polite \" society , they xxunk to xxunk which supposedly xxunk over the heads of most of the audience while xxunk those in the know to just what was up . xxmaj probably no film of the decade was so xxunk with xxunk as the oddly obscure xxmaj desert xxmaj fury , set in a small xxunk xxunk called xxmaj xxunk somewhere in the xxmaj california desert . xxmaj xxunk of the xxmaj purple xxmaj xxunk xxunk and casino is the astonishing xxmaj mary xxmaj xxunk , in xxunk and sporting a xxunk xxunk ; into town drives her handful - of - a - daughter , xxmaj xxunk xxmaj scott , looking , in xxmaj technicolor , like xxunk bucks . xxmaj but listen to the dialogue between them , which suggests an older xxmaj lesbian and her young , xxunk companion ( one can only wonder if xxup xxunk xxmaj xxunk ' original script made this relationship explicit ) . xxmaj even more xxunk are xxmaj john xxmaj xxunk as a gangster and xxmaj xxunk xxmaj xxunk as his xxunk jealous xxunk . xxmaj add xxmaj burt xxmaj xxunk as the town sheriff , xxunk , and sit back . xxmaj both xxmaj xxunk and ( surprisingly ) xxmaj xxunk fall for xxmaj scott . xxmaj it seems , however , that xxmaj xxunk not only has a past with xxmaj xxunk , but had a wife who died under suspicious circumstances . xxmaj the desert sun xxunk these ingredients up to a hard xxunk , with face - xxunk xxunk and xxunk xxunk . xxmaj do n't pass up this xxunk melodrama , chock full of xxunk exotic xxunk , if it comes your way ; it 's a remarkable movie .,xxbos xxmaj father and son xxunk very little . xxup in fact they speak different xxunk . but when the son drives his father 3000 miles for his xxunk 's to xxmaj mecca , the conversations finally take place . they are difficult and growth is necessary on both parts . \n",
              " \n",
              "  xxmaj this movie takes us into the hearts of these two travelers , and it is indeed a grand voyage for the audience as well as the two principals . xxmaj the imagery throughout is impressive , especially the final scenes in xxmaj mecca . xxmaj it xxunk for me once again how much different the world can be , but also at the same time , how similar . xxmaj the same was true for the father and son in this film . \n",
              " \n",
              "  xxmaj see this movie . xxmaj tell your friends to see it . xxmaj you 'll be glad you did .,xxbos i 'm surprised that no one yet has mentioned that there are two versions of this same film . xxmaj the lion 's share of the footage in both is identical , but here is where they xxunk : xxmaj in one version ( the version i have seen most often on broadcast xxup tv ) , the group of clerics guarding the gateway consists of the \" xxmaj brotherhood of the xxmaj xxunk \" , a ( fictional ) splinter group of priests and brothers \" xxunk \" by the xxmaj church . xxmaj in the other version , which i 've seen only once on xxup tv , the clerics guarding the gateway are depicted as priests of the official xxmaj church , meaning the xxmaj archdiocese of xxmaj new xxmaj york ( or perhaps xxmaj brooklyn ) . xxmaj also , in the former version , in most of the pertinent scenes , the clerics are referred to as \" brothers \" ( and in some scenes , you can see where the lips say \" xxmaj father \" so - and - so but the dubbed audio says \" xxmaj brother \" so - and - so . xxmaj in the latter version , i believe everyone is referred to as \" xxmaj father \" . \n",
              " \n",
              "  xxmaj in any event , it seems that one of these two versions is more or less a xxunk re - shooting of the other , with all \" xxmaj brotherhood of the xxmaj protector \" scenes re - shot as \" xxmaj archdiocese \" scenes , or vice versa . ( xxmaj kind of reminds me of the xxmaj raymond xxmaj burr xxunk scenes in \" xxmaj godzilla \" ) . i have xxunk both versions off broadcast xxup tv , so no , i 'm not imagining this . xxmaj can anyone shed some more light on the story behind these two versions of the film ?,xxbos xxmaj it 's true that you always remember what you were doing at a point when disaster or tragedy strikes . xxmaj and none more so that xxmaj xxunk 11 , 2001 , a date which changed the entire global landscape in its fight against terrorism . \n",
              " \n",
              "  xxmaj no , this documentary did n't set out to be dwelling on the events leading to 9 / 11 . xxmaj rather , the filmmakers , brothers xxmaj xxunk and xxmaj xxunk xxmaj xxunk , set out to do a documentary on the trials and xxunk of a rookie xxmaj new xxmaj york firefighter . xxmaj they had gone to the academy and done some shoots of training , and had xxunk their \" xxunk \" ( xxunk firefighter ) to join them in an xxup xxunk xxunk , home to xxmaj ladder 1 and xxmaj engine 7 . xxmaj but their production was to develop and contain at that time , believed to be the only shot of the first plane slamming into the xxmaj world xxmaj trace xxmaj center . \n",
              " \n",
              "  i was traveling back with a friend on the train from a night of xxup xxunk gaming , and received a call at about xxunk local time from my xxmaj dad , who informed me of the above . xxmaj few minutes later , he told me there was another , and that the xxup wtc was under attack . xxmaj by the time i arrived home , the upper xxunk of the twin xxunk were xxunk and in smoke , and to my horror , they collapsed , under an hour . \n",
              " \n",
              "  xxmaj the filmmakers had two cameras running that day , one who had followed a team out on a routine call , and which immediately xxunk to the xxup wtc upon hearing and seeing the plane crash into it . xxmaj we follow what is possible the only filmed sequence of events in the xxunk of xxup xxunk where the first xxunk of xxunk , xxunk , and police had to make sense of what happened , and to quickly develop a plan of action . xxmaj the other camera , held by the other brother , was making his way to xxup wtc to look for his xxunk , and along the journey , captured the many expressions of xxmaj new xxmaj yorkers , as well as the sense of chaos in and around xxmaj xxunk . \n",
              " \n",
              "  xxmaj xxunk throughout the documentary are numerous interviews with the men from xxmaj ladder 1 and xxmaj engine 7 , which miraculously , did not suffer any casualty . xxmaj but being survivors also brought about its own set of psychological turmoil , as they struggle to come to terms with the event . xxmaj through the events that unfold , we learn of the strong camaraderie amongst these men who risk live and xxunk each day on their jobs , to save lives . \n",
              " \n",
              "  xxmaj we began with what the documentary was supposed to be , before events of the day totally xxunk in and became the focus , right up to the rescue phase where hopes of finding survivors under the xxunk were kept alive by the men who work round the clock in making sense of the collapsed steel xxunk . xxmaj it 's not a film that is xxunk , and what you see here can not be recreated in any other documentary ( and xxunk , not sound stages for xxmaj hollywood xxunk ) . xxmaj it 's as close as you can get to that day , witnessing the event up close , from safety . \n",
              " \n",
              "  xxmaj code 1 xxup dvd contains a separate extra hour of 4 sets of interviews with the men of xxmaj ladder 1 and xxmaj engine 7 .,xxbos xxmaj loved the movie . i even liked most of the actors in it . xxmaj but , for me xxmaj ms. xxmaj davis ' very poor attempt at an accent , and her stiff acting really makes an otherwise compelling movie very hard to watch . xxmaj seriously if any other modern actor played the same role with the same style as xxmaj ms. xxmaj davis they would be laughed off the screen . \n",
              " \n",
              "  i really think she ' phoned this one in ' . xxmaj now if it had xxmaj myrna xxmaj loy or xxmaj ingrid xxmaj bergman playing the part of the wife i would have enjoyed it much more . \n",
              " \n",
              "  i guess i just do n't ' get ' xxmaj bette xxmaj davis . i 've always thought of her as an actor that ' plays herself ' no matter what role she 's in . xxmaj the possible exception is xxmaj now xxmaj voyager . \n",
              " \n",
              "  i 'm sure many of the other reviewers will explain in careful ( and i hope civil ) detail how i am totally wrong on this . xxmaj but , i 'll continue to watch the movies she 's in because i like the stories / writing / supporting casts , but , i 'll always be thinking , of different actresses that could have done a better job .\n",
              "y: CategoryList\n",
              "positive,positive,positive,positive,positive\n",
              "Path: /root/.fastai/data/imdb_sample;\n",
              "\n",
              "Test: None, model=SequentialRNN(\n",
              "  (0): MultiBatchEncoder(\n",
              "    (module): AWD_LSTM(\n",
              "      (encoder): Embedding(8896, 400, padding_idx=1)\n",
              "      (encoder_dp): EmbeddingDropout(\n",
              "        (emb): Embedding(8896, 400, padding_idx=1)\n",
              "      )\n",
              "      (rnns): ModuleList(\n",
              "        (0): WeightDropout(\n",
              "          (module): LSTM(400, 1152, batch_first=True)\n",
              "        )\n",
              "        (1): WeightDropout(\n",
              "          (module): LSTM(1152, 1152, batch_first=True)\n",
              "        )\n",
              "        (2): WeightDropout(\n",
              "          (module): LSTM(1152, 400, batch_first=True)\n",
              "        )\n",
              "      )\n",
              "      (input_dp): RNNDropout()\n",
              "      (hidden_dps): ModuleList(\n",
              "        (0): RNNDropout()\n",
              "        (1): RNNDropout()\n",
              "        (2): RNNDropout()\n",
              "      )\n",
              "    )\n",
              "  )\n",
              "  (1): PoolingLinearClassifier(\n",
              "    (layers): Sequential(\n",
              "      (0): BatchNorm1d(1200, eps=1e-05, momentum=0.1, affine=True, track_running_stats=True)\n",
              "      (1): Dropout(p=0.2, inplace=False)\n",
              "      (2): Linear(in_features=1200, out_features=50, bias=True)\n",
              "      (3): ReLU(inplace=True)\n",
              "      (4): BatchNorm1d(50, eps=1e-05, momentum=0.1, affine=True, track_running_stats=True)\n",
              "      (5): Dropout(p=0.1, inplace=False)\n",
              "      (6): Linear(in_features=50, out_features=2, bias=True)\n",
              "    )\n",
              "  )\n",
              "), opt_func=functools.partial(<class 'torch.optim.adam.Adam'>, betas=(0.9, 0.99)), loss_func=FlattenedLoss of CrossEntropyLoss(), metrics=[<function accuracy at 0x7f79becc6a70>], true_wd=True, bn_wd=True, wd=0.01, train_bn=True, path=PosixPath('/root/.fastai/data/imdb_sample'), model_dir='models', callback_fns=[functools.partial(<class 'fastai.basic_train.Recorder'>, add_time=True, silent=False)], callbacks=[RNNTrainer\n",
              "learn: ...\n",
              "alpha: 2.0\n",
              "beta: 1.0], layer_groups=[Sequential(\n",
              "  (0): Embedding(8896, 400, padding_idx=1)\n",
              "  (1): EmbeddingDropout(\n",
              "    (emb): Embedding(8896, 400, padding_idx=1)\n",
              "  )\n",
              "), Sequential(\n",
              "  (0): WeightDropout(\n",
              "    (module): LSTM(400, 1152, batch_first=True)\n",
              "  )\n",
              "  (1): RNNDropout()\n",
              "), Sequential(\n",
              "  (0): WeightDropout(\n",
              "    (module): LSTM(1152, 1152, batch_first=True)\n",
              "  )\n",
              "  (1): RNNDropout()\n",
              "), Sequential(\n",
              "  (0): WeightDropout(\n",
              "    (module): LSTM(1152, 400, batch_first=True)\n",
              "  )\n",
              "  (1): RNNDropout()\n",
              "), Sequential(\n",
              "  (0): PoolingLinearClassifier(\n",
              "    (layers): Sequential(\n",
              "      (0): BatchNorm1d(1200, eps=1e-05, momentum=0.1, affine=True, track_running_stats=True)\n",
              "      (1): Dropout(p=0.2, inplace=False)\n",
              "      (2): Linear(in_features=1200, out_features=50, bias=True)\n",
              "      (3): ReLU(inplace=True)\n",
              "      (4): BatchNorm1d(50, eps=1e-05, momentum=0.1, affine=True, track_running_stats=True)\n",
              "      (5): Dropout(p=0.1, inplace=False)\n",
              "      (6): Linear(in_features=50, out_features=2, bias=True)\n",
              "    )\n",
              "  )\n",
              ")], add_time=True, silent=False)"
            ]
          },
          "metadata": {
            "tags": []
          },
          "execution_count": 50
        }
      ]
    },
    {
      "cell_type": "code",
      "metadata": {
        "colab": {
          "base_uri": "https://localhost:8080/",
          "height": 203
        },
        "id": "kVi6cHks8I9c",
        "outputId": "94fd0045-15b5-4da8-9928-b16689b3d859"
      },
      "source": [
        ""
      ],
      "execution_count": null,
      "outputs": [
        {
          "output_type": "display_data",
          "data": {
            "text/html": [
              "\n",
              "    <div>\n",
              "        <style>\n",
              "            /* Turns off some styling */\n",
              "            progress {\n",
              "                /* gets rid of default border in Firefox and Opera. */\n",
              "                border: none;\n",
              "                /* Needs to be in here for Safari polyfill so background images work as expected. */\n",
              "                background-size: auto;\n",
              "            }\n",
              "            .progress-bar-interrupted, .progress-bar-interrupted::-webkit-progress-bar {\n",
              "                background: #F44336;\n",
              "            }\n",
              "        </style>\n",
              "      <progress value='3' class='' max='5' style='width:300px; height:20px; vertical-align: middle;'></progress>\n",
              "      60.00% [3/5 00:17<00:11]\n",
              "    </div>\n",
              "    \n",
              "<table border=\"1\" class=\"dataframe\">\n",
              "  <thead>\n",
              "    <tr style=\"text-align: left;\">\n",
              "      <th>epoch</th>\n",
              "      <th>train_loss</th>\n",
              "      <th>valid_loss</th>\n",
              "      <th>accuracy</th>\n",
              "      <th>time</th>\n",
              "    </tr>\n",
              "  </thead>\n",
              "  <tbody>\n",
              "    <tr>\n",
              "      <td>0</td>\n",
              "      <td>0.785136</td>\n",
              "      <td>#na#</td>\n",
              "      <td>00:05</td>\n",
              "    </tr>\n",
              "    <tr>\n",
              "      <td>1</td>\n",
              "      <td>0.746771</td>\n",
              "      <td>#na#</td>\n",
              "      <td>00:05</td>\n",
              "    </tr>\n",
              "    <tr>\n",
              "      <td>2</td>\n",
              "      <td>0.663962</td>\n",
              "      <td>#na#</td>\n",
              "      <td>00:06</td>\n",
              "    </tr>\n",
              "  </tbody>\n",
              "</table><p>\n",
              "\n",
              "    <div>\n",
              "        <style>\n",
              "            /* Turns off some styling */\n",
              "            progress {\n",
              "                /* gets rid of default border in Firefox and Opera. */\n",
              "                border: none;\n",
              "                /* Needs to be in here for Safari polyfill so background images work as expected. */\n",
              "                background-size: auto;\n",
              "            }\n",
              "            .progress-bar-interrupted, .progress-bar-interrupted::-webkit-progress-bar {\n",
              "                background: #F44336;\n",
              "            }\n",
              "        </style>\n",
              "      <progress value='23' class='' max='24' style='width:300px; height:20px; vertical-align: middle;'></progress>\n",
              "      95.83% [23/24 00:05<00:00 2.1116]\n",
              "    </div>\n",
              "    "
            ],
            "text/plain": [
              "<IPython.core.display.HTML object>"
            ]
          },
          "metadata": {
            "tags": []
          }
        },
        {
          "output_type": "stream",
          "text": [
            "LR Finder is complete, type {learner_name}.recorder.plot() to see the graph.\n"
          ],
          "name": "stdout"
        }
      ]
    },
    {
      "cell_type": "code",
      "metadata": {
        "colab": {
          "base_uri": "https://localhost:8080/",
          "height": 314
        },
        "id": "6-ux57n-8I_V",
        "outputId": "869903b7-34dc-4b36-b36f-ff162bdd66d8"
      },
      "source": [
        "clas_model.lr_find()\n",
        "clas_model.recorder.plot(show_grid=True, suggestion=True)"
      ],
      "execution_count": null,
      "outputs": [
        {
          "output_type": "stream",
          "text": [
            "Min numerical gradient: 6.31E-07\n",
            "Min loss divided by 10: 2.09E-02\n"
          ],
          "name": "stdout"
        },
        {
          "output_type": "display_data",
          "data": {
            "image/png": "[encoded data removed]",
            "text/plain": [
              "<Figure size 432x288 with 1 Axes>"
            ]
          },
          "metadata": {
            "tags": [],
            "needs_background": "light"
          }
        }
      ]
    },
    {
      "cell_type": "code",
      "metadata": {
        "id": "AAqivaUhdeV-"
      },
      "source": [
        " learn.predict(\"This was a great movie!\")"
      ],
      "execution_count": null,
      "outputs": []
    },
    {
      "cell_type": "code",
      "metadata": {
        "colab": {
          "base_uri": "https://localhost:8080/",
          "height": 197
        },
        "id": "xFn9gi-3pgtT",
        "outputId": "8e4ffc90-43aa-4f07-bac3-80ba40530ca9"
      },
      "source": [
        "import pandas as pd\n",
        "data = pd.read_csv(\"/content/drive/MyDrive/딥러닝/과제/data.csv\")\n",
        "data.head()"
      ],
      "execution_count": null,
      "outputs": [
        {
          "output_type": "execute_result",
          "data": {
            "text/html": [
              "<div>\n",
              "<style scoped>\n",
              "    .dataframe tbody tr th:only-of-type {\n",
              "        vertical-align: middle;\n",
              "    }\n",
              "\n",
              "    .dataframe tbody tr th {\n",
              "        vertical-align: top;\n",
              "    }\n",
              "\n",
              "    .dataframe thead th {\n",
              "        text-align: right;\n",
              "    }\n",
              "</style>\n",
              "<table border=\"1\" class=\"dataframe\">\n",
              "  <thead>\n",
              "    <tr style=\"text-align: right;\">\n",
              "      <th></th>\n",
              "      <th>Insult</th>\n",
              "      <th>Date</th>\n",
              "      <th>Comment</th>\n",
              "    </tr>\n",
              "  </thead>\n",
              "  <tbody>\n",
              "    <tr>\n",
              "      <th>0</th>\n",
              "      <td>1</td>\n",
              "      <td>20120618192155Z</td>\n",
              "      <td>\"You fuck your dad.\"</td>\n",
              "    </tr>\n",
              "    <tr>\n",
              "      <th>1</th>\n",
              "      <td>0</td>\n",
              "      <td>20120528192215Z</td>\n",
              "      <td>\"i really don't understand your point.\\xa0 It ...</td>\n",
              "    </tr>\n",
              "    <tr>\n",
              "      <th>2</th>\n",
              "      <td>0</td>\n",
              "      <td>NaN</td>\n",
              "      <td>\"A\\\\xc2\\\\xa0majority of Canadians can and has ...</td>\n",
              "    </tr>\n",
              "    <tr>\n",
              "      <th>3</th>\n",
              "      <td>0</td>\n",
              "      <td>NaN</td>\n",
              "      <td>\"listen if you dont wanna get married to a man...</td>\n",
              "    </tr>\n",
              "    <tr>\n",
              "      <th>4</th>\n",
              "      <td>0</td>\n",
              "      <td>20120619094753Z</td>\n",
              "      <td>\"C\\xe1c b\\u1ea1n xu\\u1ed1ng \\u0111\\u01b0\\u1edd...</td>\n",
              "    </tr>\n",
              "  </tbody>\n",
              "</table>\n",
              "</div>"
            ],
            "text/plain": [
              "   Insult             Date                                            Comment\n",
              "0       1  20120618192155Z                               \"You fuck your dad.\"\n",
              "1       0  20120528192215Z  \"i really don't understand your point.\\xa0 It ...\n",
              "2       0              NaN  \"A\\\\xc2\\\\xa0majority of Canadians can and has ...\n",
              "3       0              NaN  \"listen if you dont wanna get married to a man...\n",
              "4       0  20120619094753Z  \"C\\xe1c b\\u1ea1n xu\\u1ed1ng \\u0111\\u01b0\\u1edd..."
            ]
          },
          "metadata": {
            "tags": []
          },
          "execution_count": 23
        }
      ]
    },
    {
      "cell_type": "code",
      "metadata": {
        "colab": {
          "base_uri": "https://localhost:8080/"
        },
        "id": "Vmw9HnmJ8Iz_",
        "outputId": "509bc5b1-cdfb-4442-ef6e-7f76d5dc2b07"
      },
      "source": [
        "def decontracted(phrase):\n",
        "    phrase = re.sub(r\"won't\", \"will not\", phrase)\n",
        "    phrase = re.sub(r\"can\\'t\", \"can not\", phrase)\n",
        "    phrase = re.sub(r\"n\\'t\", \" not\", phrase)\n",
        "    phrase = re.sub(r\"\\'re\", \" are\", phrase)\n",
        "    phrase = re.sub(r\"\\'s\", \" is\", phrase)\n",
        "    phrase = re.sub(r\"\\'d\", \" would\", phrase)\n",
        "    phrase = re.sub(r\"\\'ll\", \" will\", phrase)\n",
        "    phrase = re.sub(r\"\\'t\", \" not\", phrase)\n",
        "    phrase = re.sub(r\"\\'ve\", \" have\", phrase)\n",
        "    phrase = re.sub(r\"\\'m\", \" am\", phrase)\n",
        "    return phrase\n",
        "  \n",
        "# nltk.download('stopwords')\n",
        "# stopwords = set(stopwords.words('english'))\n",
        "# stopwords.update([\"br\",\"href\"])\n",
        "\n",
        "txt = []    \n",
        "for sent in tqdm(data['Comment'].values):  \n",
        "    sent = re.sub(r\"http\\S+\", \"\", sent)\n",
        "    sent = BeautifulSoup(sent, 'lxml').get_text()\n",
        "    sent = decontracted(sent)\n",
        "    sent = re.sub(\"\\S*\\d\\S*\", \"\", sent).strip()\n",
        "    sent = re.sub('[^A-Za-z]+', ' ', sent)\n",
        "    sent = \" \".join(e.lower() for e in sent.split() if e.lower() not in stopwords)\n",
        "    txt.append(sent.strip())"
      ],
      "execution_count": null,
      "outputs": [
        {
          "output_type": "stream",
          "text": [
            "100%|██████████| 3947/3947 [00:00<00:00, 4207.03it/s]\n"
          ],
          "name": "stderr"
        }
      ]
    },
    {
      "cell_type": "code",
      "metadata": {
        "colab": {
          "base_uri": "https://localhost:8080/",
          "height": 167
        },
        "id": "LHHxmOje3CKS",
        "outputId": "9ac7ccd4-8c66-47e7-b7e7-28c29768f94d"
      },
      "source": [
        "data.drop(\"Comment\",axis=1,inplace=True)\n",
        "data['CleanText'] = txt\n",
        "data.reset_index(inplace=False)\n",
        "data[[\"Insult\",\"CleanText\"]].head(4)"
      ],
      "execution_count": null,
      "outputs": [
        {
          "output_type": "execute_result",
          "data": {
            "text/html": [
              "<div>\n",
              "<style scoped>\n",
              "    .dataframe tbody tr th:only-of-type {\n",
              "        vertical-align: middle;\n",
              "    }\n",
              "\n",
              "    .dataframe tbody tr th {\n",
              "        vertical-align: top;\n",
              "    }\n",
              "\n",
              "    .dataframe thead th {\n",
              "        text-align: right;\n",
              "    }\n",
              "</style>\n",
              "<table border=\"1\" class=\"dataframe\">\n",
              "  <thead>\n",
              "    <tr style=\"text-align: right;\">\n",
              "      <th></th>\n",
              "      <th>Insult</th>\n",
              "      <th>CleanText</th>\n",
              "    </tr>\n",
              "  </thead>\n",
              "  <tbody>\n",
              "    <tr>\n",
              "      <th>0</th>\n",
              "      <td>1</td>\n",
              "      <td>fuck dad</td>\n",
              "    </tr>\n",
              "    <tr>\n",
              "      <th>1</th>\n",
              "      <td>0</td>\n",
              "      <td>really understand seems mixing apples oranges</td>\n",
              "    </tr>\n",
              "    <tr>\n",
              "      <th>2</th>\n",
              "      <td>0</td>\n",
              "      <td>canadians wrong n nunless supportive idea noth...</td>\n",
              "    </tr>\n",
              "    <tr>\n",
              "      <th>3</th>\n",
              "      <td>0</td>\n",
              "      <td>listen dont wanna get married man women dont w...</td>\n",
              "    </tr>\n",
              "  </tbody>\n",
              "</table>\n",
              "</div>"
            ],
            "text/plain": [
              "   Insult                                          CleanText\n",
              "0       1                                           fuck dad\n",
              "1       0      really understand seems mixing apples oranges\n",
              "2       0  canadians wrong n nunless supportive idea noth...\n",
              "3       0  listen dont wanna get married man women dont w..."
            ]
          },
          "metadata": {
            "tags": []
          },
          "execution_count": 25
        }
      ]
    },
    {
      "cell_type": "code",
      "metadata": {
        "id": "GCQZsmpbkP_M"
      },
      "source": [
        "data.drop(\"Date\",axis=1,inplace=True)"
      ],
      "execution_count": null,
      "outputs": []
    },
    {
      "cell_type": "code",
      "metadata": {
        "colab": {
          "base_uri": "https://localhost:8080/",
          "height": 264
        },
        "id": "2hHVHd9v5ndz",
        "outputId": "bfb591ec-7d2f-4783-af83-86db09d00652"
      },
      "source": [
        "labels = 'Insult', 'Not Insult'\n",
        "sizes = [len(np.where(data['Insult']==1)[0]), len(np.where(data['Insult']==0)[0])]\n",
        "fig, ax = plt.subplots()\n",
        "fig.patch.set_facecolor('white')\n",
        "ax.pie(sizes, labels=labels, autopct='%1.1f%%',shadow=True, startangle=90)\n",
        "ax.axis('equal')\n",
        "ax.set_title('Percentage of Insult Tweets')\n",
        "plt.show()"
      ],
      "execution_count": null,
      "outputs": [
        {
          "output_type": "display_data",
          "data": {
            "image/png": "[encoded data removed]",
            "text/plain": [
              "<Figure size 432x288 with 1 Axes>"
            ]
          },
          "metadata": {
            "tags": []
          }
        }
      ]
    },
    {
      "cell_type": "code",
      "metadata": {
        "colab": {
          "base_uri": "https://localhost:8080/"
        },
        "id": "TGW4QuzCdeYe",
        "outputId": "63c7b283-3121-41e3-8be3-543b867a4b97"
      },
      "source": [
        "max_words=10000\n",
        "maxlen=100\n",
        "token=Tokenizer(num_words=max_words)\n",
        "token.fit_on_texts(data['CleanText'].values)\n",
        "sequence=token.texts_to_sequences(data['CleanText'].values)\n",
        "word_index=token.word_index\n",
        "print(len(word_index))\n",
        "labels=data['Insult'].values\n",
        "data=pad_sequences(sequence, maxlen=maxlen)\n",
        "print(data.shape)\n",
        "print(labels.shape)"
      ],
      "execution_count": null,
      "outputs": [
        {
          "output_type": "stream",
          "text": [
            "14400\n",
            "(3947, 100)\n",
            "(3947,)\n"
          ],
          "name": "stdout"
        }
      ]
    },
    {
      "cell_type": "code",
      "metadata": {
        "id": "xQt07lsnefwz"
      },
      "source": [
        "x_train, x_test, y_train, y_test = train_test_split(data, labels, test_size=0.3,random_state=42)"
      ],
      "execution_count": null,
      "outputs": []
    },
    {
      "cell_type": "code",
      "metadata": {
        "colab": {
          "base_uri": "https://localhost:8080/"
        },
        "id": "_LWPpBHrQf43",
        "outputId": "c08db3cc-b7f1-4875-a3a7-7f9159737052"
      },
      "source": [
        "glove_dir='/content/drive/MyDrive/딥러닝/딥러닝실습데이터/glove.6B'\n",
        "embedding_index={}\n",
        "f=open(os.path.join(glove_dir,'glove.6B.100d.txt'),encoding='UTF8')\n",
        "for line in f:\n",
        "    values=line.split()\n",
        "    word=values[0]\n",
        "    seq=np.asarray(values[1:],dtype='float32')\n",
        "    embedding_index[word]=seq\n",
        "f.close"
      ],
      "execution_count": null,
      "outputs": [
        {
          "output_type": "execute_result",
          "data": {
            "text/plain": [
              "<function TextIOWrapper.close>"
            ]
          },
          "metadata": {
            "tags": []
          },
          "execution_count": 9
        }
      ]
    },
    {
      "cell_type": "code",
      "metadata": {
        "id": "kHy0WLcOQf8a"
      },
      "source": [
        "embedding_dim=100\n",
        "embedding_matrix=np.zeros((max_words,embedding_dim))\n",
        "for word,i in word_index.items():\n",
        "    if i<max_words:\n",
        "        embedding_vector=embedding_index.get(word)\n",
        "        if embedding_vector is not None:\n",
        "            embedding_matrix[i]=embedding_vector"
      ],
      "execution_count": null,
      "outputs": []
    },
    {
      "cell_type": "code",
      "metadata": {
        "colab": {
          "base_uri": "https://localhost:8080/"
        },
        "id": "P7rhgfiEdKGT",
        "outputId": "fbaca76d-a336-4f4d-a8f6-a4b3fafa5e0c"
      },
      "source": [
        "model_gl=Sequential()\n",
        "model_gl.add(Embedding(max_words,embedding_dim,input_length=maxlen))\n",
        "model_gl.add(Bidirectional(LSTM(64),merge_mode='concat'))\n",
        "model_gl.add(Flatten())\n",
        "model_gl.add(Dropout(0.3))\n",
        "model_gl.add(Dense(1,activation='sigmoid'))\n",
        "model_gl.summary()\n",
        "callback_list=[EarlyStopping(monitor='val_auc', patience=2)]\n",
        "model_gl.compile(optimizer='rmsprop',loss='binary_crossentropy', metrics=['AUC'])\n",
        "model_gl.fit(x_train,y_train, epochs=5, batch_size=128, validation_data=(x_test, y_test), callbacks=callback_list)\n",
        "\n",
        "train_tf = model_gl.predict_classes(x_train)\n",
        "precision, recall, thresholds = precision_recall_curve(y_train, train_tf)\n",
        "auc_precision_recall = auc(recall, precision)\n",
        "print(\"Train:\\n\",\"F1 score(micro) / F1 score(macro) / PR-AUC / ROC-AUC \\n\",round(f1_score(y_train,train_tf, average=\"micro\"),5),'        /' ,\n",
        "      round(f1_score(y_train,train_tf, average=\"macro\"),5),'   /' ,\n",
        "      round(auc_precision_recall,5), '    /' ,round(roc_auc_score(y_train,train_tf),5))\n",
        "\n",
        "test_tf = model_gl.predict_classes(x_test)\n",
        "precision, recall, thresholds = precision_recall_curve(y_test, test_tf)\n",
        "auc_precision_recall = auc(recall, precision)\n",
        "print(\"Test:\\n\",\"F1 score(micro) / F1 score(macro) / PR-AUC / ROC-AUC \\n\",round(f1_score(y_test,test_tf, average=\"micro\"),5),'        /' ,\n",
        "      round(f1_score(y_test,test_tf, average=\"macro\"),5),'   /' ,\n",
        "      round(auc_precision_recall,5), '    /' ,round(roc_auc_score(y_test,test_tf),5))"
      ],
      "execution_count": null,
      "outputs": [
        {
          "output_type": "stream",
          "text": [
            "Model: \"sequential_3\"\n",
            "_________________________________________________________________\n",
            "Layer (type)                 Output Shape              Param #   \n",
            "=================================================================\n",
            "embedding_3 (Embedding)      (None, 100, 100)          1000000   \n",
            "_________________________________________________________________\n",
            "bidirectional_2 (Bidirection (None, 128)               84480     \n",
            "_________________________________________________________________\n",
            "flatten_2 (Flatten)          (None, 128)               0         \n",
            "_________________________________________________________________\n",
            "dropout_2 (Dropout)          (None, 128)               0         \n",
            "_________________________________________________________________\n",
            "dense_2 (Dense)              (None, 1)                 129       \n",
            "=================================================================\n",
            "Total params: 1,084,609\n",
            "Trainable params: 1,084,609\n",
            "Non-trainable params: 0\n",
            "_________________________________________________________________\n",
            "Epoch 1/5\n",
            "22/22 [==============================] - 5s 68ms/step - loss: 0.5980 - auc: 0.5230 - val_loss: 0.6068 - val_auc: 0.6026\n",
            "Epoch 2/5\n",
            "22/22 [==============================] - 1s 24ms/step - loss: 0.5505 - auc: 0.6699 - val_loss: 0.5340 - val_auc: 0.8039\n",
            "Epoch 3/5\n",
            "22/22 [==============================] - 1s 24ms/step - loss: 0.4815 - auc: 0.8350 - val_loss: 0.4854 - val_auc: 0.8189\n",
            "Train:\n",
            " F1 score(micro) / F1 score(macro) / PR-AUC / ROC-AUC \n",
            " 0.77046         / 0.55054    / 0.68171     / 0.56694\n",
            "Test:\n",
            " F1 score(micro) / F1 score(macro) / PR-AUC / ROC-AUC \n",
            " 0.74768         / 0.48284    / 0.63071     / 0.52939\n"
          ],
          "name": "stdout"
        }
      ]
    },
    {
      "cell_type": "code",
      "metadata": {
        "colab": {
          "base_uri": "https://localhost:8080/"
        },
        "id": "yH7HyUxhh1Ob",
        "outputId": "c07c46f9-87c7-4b37-fcb8-0c48335b799a"
      },
      "source": [
        "model_gl=Sequential()\n",
        "model_gl.add(Embedding(max_words,embedding_dim,input_length=maxlen))\n",
        "model_gl.add(Bidirectional(LSTM(64),merge_mode='concat'))\n",
        "model_gl.add(Dropout(0.1))\n",
        "model_gl.add(Flatten())\n",
        "model_gl.add(Dropout(0.3))\n",
        "model_gl.add(Dense(1,activation='sigmoid', kernel_regularizer='l2'))\n",
        "model_gl.summary()\n",
        "callback_list=[EarlyStopping(monitor='val_auc', patience=2)]\n",
        "\n",
        "model_gl.layers[0].set_weights([embedding_matrix])\n",
        "model_gl.layers[0].trainable=False\n",
        "\n",
        "model_gl.compile(optimizer='rmsprop',loss='binary_crossentropy', metrics=['AUC'])\n",
        "gl_result = model_gl.fit(x_train,y_train, epochs=5, batch_size=128, validation_data=(x_test, y_test), callbacks=callback_list)\n",
        "\n",
        "train_tf = model_gl.predict_classes(x_train)\n",
        "precision, recall, thresholds = precision_recall_curve(y_train, train_tf)\n",
        "auc_precision_recall = auc(recall, precision)\n",
        "print(\"Train:\\n\",\"F1 score(micro) / F1 score(macro) / PR-AUC / ROC-AUC \\n\",round(f1_score(y_train,train_tf, average=\"micro\"),5),'        /' ,\n",
        "      round(f1_score(y_train,train_tf, average=\"macro\"),5),'   /' ,\n",
        "      round(auc_precision_recall,5), '    /' ,round(roc_auc_score(y_train,train_tf),5))\n",
        "\n",
        "test_tf = model_gl.predict_classes(x_test)\n",
        "precision, recall, thresholds = precision_recall_curve(y_test, test_tf)\n",
        "auc_precision_recall = auc(recall, precision)\n",
        "print(\"Test:\\n\",\"F1 score(micro) / F1 score(macro) / PR-AUC / ROC-AUC \\n\",round(f1_score(y_test,test_tf, average=\"micro\"),5),'        /' ,\n",
        "      round(f1_score(y_test,test_tf, average=\"macro\"),5),'   /' ,\n",
        "      round(auc_precision_recall,5), '    /' ,round(roc_auc_score(y_test,test_tf),5))"
      ],
      "execution_count": null,
      "outputs": [
        {
          "output_type": "stream",
          "text": [
            "Model: \"sequential_5\"\n",
            "_________________________________________________________________\n",
            "Layer (type)                 Output Shape              Param #   \n",
            "=================================================================\n",
            "embedding_5 (Embedding)      (None, 100, 100)          1000000   \n",
            "_________________________________________________________________\n",
            "bidirectional_4 (Bidirection (None, 128)               84480     \n",
            "_________________________________________________________________\n",
            "dropout_4 (Dropout)          (None, 128)               0         \n",
            "_________________________________________________________________\n",
            "flatten_4 (Flatten)          (None, 128)               0         \n",
            "_________________________________________________________________\n",
            "dropout_5 (Dropout)          (None, 128)               0         \n",
            "_________________________________________________________________\n",
            "dense_4 (Dense)              (None, 1)                 129       \n",
            "=================================================================\n",
            "Total params: 1,084,609\n",
            "Trainable params: 1,084,609\n",
            "Non-trainable params: 0\n",
            "_________________________________________________________________\n",
            "Epoch 1/5\n",
            "22/22 [==============================] - 4s 60ms/step - loss: 0.5736 - auc: 0.6533 - val_loss: 0.5191 - val_auc: 0.7616\n",
            "Epoch 2/5\n",
            "22/22 [==============================] - 0s 17ms/step - loss: 0.5121 - auc: 0.7539 - val_loss: 0.4922 - val_auc: 0.7891\n",
            "Epoch 3/5\n",
            "22/22 [==============================] - 0s 18ms/step - loss: 0.4869 - auc: 0.7850 - val_loss: 0.4779 - val_auc: 0.8014\n",
            "Train:\n",
            " F1 score(micro) / F1 score(macro) / PR-AUC / ROC-AUC \n",
            " 0.79833         / 0.69277    / 0.63606     / 0.67107\n",
            "Test:\n",
            " F1 score(micro) / F1 score(macro) / PR-AUC / ROC-AUC \n",
            " 0.76962         / 0.65247    / 0.57427     / 0.63749\n"
          ],
          "name": "stdout"
        }
      ]
    },
    {
      "cell_type": "code",
      "metadata": {
        "colab": {
          "base_uri": "https://localhost:8080/",
          "height": 544
        },
        "id": "yYYLOkLaiXG0",
        "outputId": "65b24205-a858-48b6-d4b3-6420d9ea7b6c"
      },
      "source": [
        "import matplotlib.pyplot as plt\n",
        "acc=gl_result.history['auc']\n",
        "val_acc=gl_result.history['val_auc']\n",
        "loss=gl_result.history['loss']\n",
        "val_loss=gl_result.history['val_loss']\n",
        "epochs=range(1,len(acc)+1)\n",
        "plt.plot(epochs,acc,'b',label='training acc')\n",
        "plt.plot(epochs,val_acc,'bo',label='validation acc')\n",
        "plt.title('training and validation accuracy')\n",
        "plt.legend()\n",
        "plt.figure()\n",
        "plt.plot(epochs,loss,'b',label='training loss')\n",
        "plt.plot(epochs,val_loss,'bo',label='validation loss')\n",
        "plt.title('training and validation loss')\n",
        "plt.legend()\n",
        "plt.show()"
      ],
      "execution_count": null,
      "outputs": [
        {
          "output_type": "display_data",
          "data": {
            "image/png": "[encoded data removed]",
            "text/plain": [
              "<Figure size 432x288 with 1 Axes>"
            ]
          },
          "metadata": {
            "tags": [],
            "needs_background": "light"
          }
        },
        {
          "output_type": "display_data",
          "data": {
            "image/png": "[encoded data removed]",
            "text/plain": [
              "<Figure size 432x288 with 1 Axes>"
            ]
          },
          "metadata": {
            "tags": [],
            "needs_background": "light"
          }
        }
      ]
    },
    {
      "cell_type": "code",
      "metadata": {
        "id": "rj4HZtbPgpK2"
      },
      "source": [
        "tokenizer=Tokenizer(num_words=10000)\n",
        "tokenizer.fit_on_texts(data['CleanText'].values)\n",
        "word_id=tokenizer.word_index\n",
        "seq=tokenizer.texts_to_sequences(data['CleanText'].values)"
      ],
      "execution_count": null,
      "outputs": []
    },
    {
      "cell_type": "code",
      "metadata": {
        "id": "pyQMExAldKLu"
      },
      "source": [
        "max_words=10000\n",
        "maxlen=100\n",
        "token=Tokenizer(num_words=max_words)\n",
        "token.fit_on_texts(data['CleanText'].values)\n",
        "sequence=token.texts_to_sequences(data['CleanText'].values)\n",
        "word_index=token.word_index\n",
        "print(len(word_index))\n",
        "labels=data['Insult'].values\n",
        "data=pad_sequences(sequence, maxlen=maxlen)\n",
        "print(data.shape)\n",
        "print(labels.shape)"
      ],
      "execution_count": null,
      "outputs": []
    },
    {
      "cell_type": "code",
      "metadata": {
        "colab": {
          "base_uri": "https://localhost:8080/"
        },
        "id": "usnKQ70iAxOd",
        "outputId": "e986ad4c-cc15-4e30-c92f-eee941d52e77"
      },
      "source": [
        "!pip install Faker"
      ],
      "execution_count": null,
      "outputs": [
        {
          "output_type": "stream",
          "text": [
            "Collecting Faker\n",
            "\u001b[?25l  Downloading https://files.pythonhosted.org/packages/11/89/1025af52d0529d5f3d4872c614ee832312ed23934d0adae394fdf0b72afd/Faker-8.6.0-py3-none-any.whl (1.2MB)\n",
            "\u001b[K     |████████████████████████████████| 1.2MB 12.2MB/s \n",
            "\u001b[?25hRequirement already satisfied: python-dateutil>=2.4 in /usr/local/lib/python3.7/dist-packages (from Faker) (2.8.1)\n",
            "Requirement already satisfied: text-unidecode==1.3 in /usr/local/lib/python3.7/dist-packages (from Faker) (1.3)\n",
            "Requirement already satisfied: six>=1.5 in /usr/local/lib/python3.7/dist-packages (from python-dateutil>=2.4->Faker) (1.15.0)\n",
            "Installing collected packages: Faker\n",
            "Successfully installed Faker-8.6.0\n"
          ],
          "name": "stdout"
        }
      ]
    },
    {
      "cell_type": "code",
      "metadata": {
        "id": "k70DBSnZkySz"
      },
      "source": [
        "from faker import Faker\n",
        "fake = Faker()"
      ],
      "execution_count": null,
      "outputs": []
    },
    {
      "cell_type": "code",
      "metadata": {
        "id": "jSot995FhR_n"
      },
      "source": [
        "swear = pd.read_csv(\"/content/drive/MyDrive/딥러닝/과제/list.txt\")"
      ],
      "execution_count": null,
      "outputs": []
    },
    {
      "cell_type": "code",
      "metadata": {
        "id": "SqOvnVZlhnku"
      },
      "source": [
        "swear = swear['4r5e'].values"
      ],
      "execution_count": null,
      "outputs": []
    },
    {
      "cell_type": "code",
      "metadata": {
        "colab": {
          "base_uri": "https://localhost:8080/"
        },
        "id": "FgTdE54VkhyW",
        "outputId": "a779a6c7-914a-4c22-f75c-b00a62e496db"
      },
      "source": [
        "tmp = list()\n",
        "tmp.append('a')\n",
        "tmp.append('b')\n",
        "print(tmp)"
      ],
      "execution_count": null,
      "outputs": [
        {
          "output_type": "stream",
          "text": [
            "['a', 'b']\n"
          ],
          "name": "stdout"
        }
      ]
    },
    {
      "cell_type": "code",
      "metadata": {
        "colab": {
          "base_uri": "https://localhost:8080/"
        },
        "id": "kcTJODdMUOi-",
        "outputId": "7e590007-8669-4012-ec8f-4f3aa4f21202"
      },
      "source": [
        "good = list()\n",
        "bad = list()\n",
        "\n",
        "for _ in range(5000):\n",
        "  txt = fake.text()\n",
        "  good.append(txt)\n",
        "\n",
        "for _ in range(5000,10000):\n",
        "  temp = fake.text()\n",
        "  txt = temp.replace(random.choice(temp.split()),random.choice(swear))\n",
        "  bad.append(txt)\n",
        "\n",
        "bad[:2]"
      ],
      "execution_count": null,
      "outputs": [
        {
          "output_type": "execute_result",
          "data": {
            "text/plain": [
              "['Task process think sing pussy your. Candidate dinner point. Concern others onto author chair little score.\\nAlthough court short.',\n",
              " 'Really nothing firm. Sort market wife toward.\\nEnvironmental win edge high involve add.\\nChallenge fuckme  we produce. Later else win everyone. Manage kind be hard which.']"
            ]
          },
          "metadata": {
            "tags": []
          },
          "execution_count": 14
        }
      ]
    },
    {
      "cell_type": "code",
      "metadata": {
        "colab": {
          "base_uri": "https://localhost:8080/"
        },
        "id": "ePqPLt5Ultc2",
        "outputId": "b166a2c5-09b6-41b0-98c0-bbdd856eaf3b"
      },
      "source": [
        "len(bad)"
      ],
      "execution_count": null,
      "outputs": [
        {
          "output_type": "execute_result",
          "data": {
            "text/plain": [
              "5000"
            ]
          },
          "metadata": {
            "tags": []
          },
          "execution_count": 15
        }
      ]
    },
    {
      "cell_type": "code",
      "metadata": {
        "colab": {
          "base_uri": "https://localhost:8080/"
        },
        "id": "yGrSursLqJ-O",
        "outputId": "42d9b905-f02e-45e8-c567-391df3aa95a5"
      },
      "source": [
        "len(good)"
      ],
      "execution_count": null,
      "outputs": [
        {
          "output_type": "execute_result",
          "data": {
            "text/plain": [
              "5000"
            ]
          },
          "metadata": {
            "tags": []
          },
          "execution_count": 16
        }
      ]
    },
    {
      "cell_type": "code",
      "metadata": {
        "id": "4PgUWRC8u2Ga"
      },
      "source": [
        "def decontracted(phrase):\n",
        "    phrase = re.sub(r\"won't\", \"will not\", phrase)\n",
        "    phrase = re.sub(r\"can\\'t\", \"can not\", phrase)\n",
        "    phrase = re.sub(r\"n\\'t\", \" not\", phrase)\n",
        "    phrase = re.sub(r\"\\'re\", \" are\", phrase)\n",
        "    phrase = re.sub(r\"\\'s\", \" is\", phrase)\n",
        "    phrase = re.sub(r\"\\'d\", \" would\", phrase)\n",
        "    phrase = re.sub(r\"\\'ll\", \" will\", phrase)\n",
        "    phrase = re.sub(r\"\\'t\", \" not\", phrase)\n",
        "    phrase = re.sub(r\"\\'ve\", \" have\", phrase)\n",
        "    phrase = re.sub(r\"\\'m\", \" am\", phrase)\n",
        "    return phrase \n",
        "  \n",
        "# nltk.download('stopwords')\n",
        "stopwords.update([\"br\",\"href\"])"
      ],
      "execution_count": null,
      "outputs": []
    },
    {
      "cell_type": "code",
      "metadata": {
        "colab": {
          "base_uri": "https://localhost:8080/"
        },
        "id": "fbK1ZcWmmQiD",
        "outputId": "b4ffd65f-1ff5-436c-def0-1cadf7fd34ff"
      },
      "source": [
        "txt = []    \n",
        "for sent in tqdm(good):  \n",
        "    sent = re.sub(r\"http\\S+\", \"\", sent)\n",
        "    sent = BeautifulSoup(sent, 'lxml').get_text()\n",
        "    sent = decontracted(sent)\n",
        "    sent = re.sub(\"\\S*\\d\\S*\", \"\", sent).strip()\n",
        "    sent = re.sub('[^A-Za-z]+', ' ', sent)\n",
        "    sent = \" \".join(e.lower() for e in sent.split() if e.lower() not in stopwords)\n",
        "    txt.append(sent.strip())\n",
        "\n",
        "txt2 = []    \n",
        "for sent in tqdm(bad):  \n",
        "    sent = re.sub(r\"http\\S+\", \"\", sent)\n",
        "    sent = BeautifulSoup(sent, 'lxml').get_text()\n",
        "    sent = decontracted(sent)\n",
        "    sent = re.sub(\"\\S*\\d\\S*\", \"\", sent).strip()\n",
        "    sent = re.sub('[^A-Za-z]+', ' ', sent)\n",
        "    sent = \" \".join(e.lower() for e in sent.split() if e.lower() not in stopwords)\n",
        "    txt2.append(sent.strip())"
      ],
      "execution_count": null,
      "outputs": [
        {
          "output_type": "stream",
          "text": [
            "100%|██████████| 5000/5000 [00:01<00:00, 2764.54it/s]\n",
            "100%|██████████| 5000/5000 [00:01<00:00, 2845.72it/s]\n"
          ],
          "name": "stderr"
        }
      ]
    },
    {
      "cell_type": "code",
      "metadata": {
        "id": "9HZNFEp7mlwn"
      },
      "source": [
        "gooddf = pd.DataFrame({'Insult':np.repeat(0,5000),'Text':txt})\n",
        "baddf = pd.DataFrame({'Insult':np.repeat(1,5000),'Text':txt2})"
      ],
      "execution_count": null,
      "outputs": []
    },
    {
      "cell_type": "code",
      "metadata": {
        "colab": {
          "base_uri": "https://localhost:8080/",
          "height": 197
        },
        "id": "ygdPH8SkuHMA",
        "outputId": "c433115b-542a-42cf-af89-f181445e4c2a"
      },
      "source": [
        "transfer = pd.concat([gooddf, baddf])\n",
        "transfer.head()"
      ],
      "execution_count": null,
      "outputs": [
        {
          "output_type": "execute_result",
          "data": {
            "text/html": [
              "<div>\n",
              "<style scoped>\n",
              "    .dataframe tbody tr th:only-of-type {\n",
              "        vertical-align: middle;\n",
              "    }\n",
              "\n",
              "    .dataframe tbody tr th {\n",
              "        vertical-align: top;\n",
              "    }\n",
              "\n",
              "    .dataframe thead th {\n",
              "        text-align: right;\n",
              "    }\n",
              "</style>\n",
              "<table border=\"1\" class=\"dataframe\">\n",
              "  <thead>\n",
              "    <tr style=\"text-align: right;\">\n",
              "      <th></th>\n",
              "      <th>Insult</th>\n",
              "      <th>Text</th>\n",
              "    </tr>\n",
              "  </thead>\n",
              "  <tbody>\n",
              "    <tr>\n",
              "      <th>0</th>\n",
              "      <td>0</td>\n",
              "      <td>environment tend mr democratic rock degree ten...</td>\n",
              "    </tr>\n",
              "    <tr>\n",
              "      <th>1</th>\n",
              "      <td>0</td>\n",
              "      <td>whose seem major attorney sport question class...</td>\n",
              "    </tr>\n",
              "    <tr>\n",
              "      <th>2</th>\n",
              "      <td>0</td>\n",
              "      <td>watch land often economy though foot list give...</td>\n",
              "    </tr>\n",
              "    <tr>\n",
              "      <th>3</th>\n",
              "      <td>0</td>\n",
              "      <td>prove water positive production back wife list...</td>\n",
              "    </tr>\n",
              "    <tr>\n",
              "      <th>4</th>\n",
              "      <td>0</td>\n",
              "      <td>bill approach entire old inside hour increase ...</td>\n",
              "    </tr>\n",
              "  </tbody>\n",
              "</table>\n",
              "</div>"
            ],
            "text/plain": [
              "   Insult                                               Text\n",
              "0       0  environment tend mr democratic rock degree ten...\n",
              "1       0  whose seem major attorney sport question class...\n",
              "2       0  watch land often economy though foot list give...\n",
              "3       0  prove water positive production back wife list...\n",
              "4       0  bill approach entire old inside hour increase ..."
            ]
          },
          "metadata": {
            "tags": []
          },
          "execution_count": 21
        }
      ]
    },
    {
      "cell_type": "code",
      "metadata": {
        "id": "gexhSROawYsL"
      },
      "source": [
        "tokenizer=Tokenizer(num_words=10000)\n",
        "tokenizer.fit_on_texts(data['CleanText'].values)\n",
        "word_id=tokenizer.word_index\n",
        "seq=tokenizer.texts_to_sequences(data['CleanText'].values)"
      ],
      "execution_count": null,
      "outputs": []
    },
    {
      "cell_type": "code",
      "metadata": {
        "id": "1C9v6NC1FTXH"
      },
      "source": [
        "seq2=tokenizer.texts_to_sequences(transfer.Text.values)"
      ],
      "execution_count": null,
      "outputs": []
    },
    {
      "cell_type": "code",
      "metadata": {
        "id": "zQJYy-y8GsCw"
      },
      "source": [
        "seq2 = sequence.pad_sequences(seq2, maxlen=10000)"
      ],
      "execution_count": null,
      "outputs": []
    },
    {
      "cell_type": "code",
      "metadata": {
        "id": "f0wLdph1xOzY"
      },
      "source": [
        "X_train, X_test = train_test_split(seq2,test_size=0.3,random_state=42)\n",
        "y_train, y_test = train_test_split(transfer.Insult.values,test_size=0.3,random_state=42)"
      ],
      "execution_count": null,
      "outputs": []
    },
    {
      "cell_type": "code",
      "metadata": {
        "id": "yxtKQVka2HsB"
      },
      "source": [
        "max_features = 10000"
      ],
      "execution_count": null,
      "outputs": []
    },
    {
      "cell_type": "code",
      "metadata": {
        "colab": {
          "base_uri": "https://localhost:8080/"
        },
        "id": "CqrhbLZYxtdh",
        "outputId": "bb842418-6549-4cf5-89c7-3ff9beef7b03"
      },
      "source": [
        "X_train=sequence.pad_sequences(X_train,maxlen=100)\n",
        "X_test=sequence.pad_sequences(X_test,maxlen=100)\n",
        "m_f=Sequential()\n",
        "m_f.add(Embedding(max_features, 32))\n",
        "m_f.add(Bidirectional(LSTM(32),merge_mode='concat'))\n",
        "m_f.add(Dense(1, activation='sigmoid'))\n",
        "m_f.summary()\n",
        "m_f.compile(optimizer='rmsprop',loss='binary_crossentropy',metrics=['acc'])\n",
        "m_f.fit(X_train,y_train, epochs=10, batch_size=128, validation_data=(X_test, y_test))"
      ],
      "execution_count": null,
      "outputs": [
        {
          "output_type": "stream",
          "text": [
            "Model: \"sequential_1\"\n",
            "_________________________________________________________________\n",
            "Layer (type)                 Output Shape              Param #   \n",
            "=================================================================\n",
            "embedding_1 (Embedding)      (None, None, 32)          320000    \n",
            "_________________________________________________________________\n",
            "bidirectional_1 (Bidirection (None, 64)                16640     \n",
            "_________________________________________________________________\n",
            "dense_1 (Dense)              (None, 1)                 65        \n",
            "=================================================================\n",
            "Total params: 336,705\n",
            "Trainable params: 336,705\n",
            "Non-trainable params: 0\n",
            "_________________________________________________________________\n",
            "Epoch 1/10\n",
            "55/55 [==============================] - 122s 2s/step - loss: 0.6929 - acc: 0.5070 - val_loss: 0.6908 - val_acc: 0.5443\n",
            "Epoch 2/10\n",
            "55/55 [==============================] - 117s 2s/step - loss: 0.6729 - acc: 0.6226 - val_loss: 0.6663 - val_acc: 0.6053\n",
            "Epoch 3/10\n",
            "55/55 [==============================] - 117s 2s/step - loss: 0.6434 - acc: 0.6747 - val_loss: 0.6520 - val_acc: 0.6237\n",
            "Epoch 4/10\n",
            "55/55 [==============================] - 116s 2s/step - loss: 0.6056 - acc: 0.6929 - val_loss: 0.6459 - val_acc: 0.6277\n",
            "Epoch 5/10\n",
            "55/55 [==============================] - 116s 2s/step - loss: 0.5616 - acc: 0.7277 - val_loss: 0.6325 - val_acc: 0.6270\n",
            "Epoch 6/10\n",
            "55/55 [==============================] - 116s 2s/step - loss: 0.4835 - acc: 0.7841 - val_loss: 0.5568 - val_acc: 0.7157\n",
            "Epoch 7/10\n",
            "55/55 [==============================] - 117s 2s/step - loss: 0.3685 - acc: 0.8617 - val_loss: 0.4184 - val_acc: 0.8123\n",
            "Epoch 8/10\n",
            "55/55 [==============================] - 113s 2s/step - loss: 0.2777 - acc: 0.9079 - val_loss: 0.3427 - val_acc: 0.8607\n",
            "Epoch 9/10\n",
            "55/55 [==============================] - 111s 2s/step - loss: 0.2117 - acc: 0.9327 - val_loss: 0.2758 - val_acc: 0.9010\n",
            "Epoch 10/10\n",
            "55/55 [==============================] - 112s 2s/step - loss: 0.1697 - acc: 0.9483 - val_loss: 0.2284 - val_acc: 0.9233\n"
          ],
          "name": "stdout"
        },
        {
          "output_type": "execute_result",
          "data": {
            "text/plain": [
              "<tensorflow.python.keras.callbacks.History at 0x7fb5ce8922d0>"
            ]
          },
          "metadata": {
            "tags": []
          },
          "execution_count": 27
        }
      ]
    },
    {
      "cell_type": "code",
      "metadata": {
        "colab": {
          "base_uri": "https://localhost:8080/"
        },
        "id": "e757JyM6fy4h",
        "outputId": "dd277dda-f0b5-4159-b446-80ac5b6681bf"
      },
      "source": [
        "X_train=sequence.pad_sequences(X_train,maxlen=10000)\n",
        "X_test=sequence.pad_sequences(X_test,maxlen=10000)\n",
        "m_bd=Sequential()\n",
        "m_bd.add(Embedding(max_features, 32))\n",
        "m_bd.add(Bidirectional(LSTM(32),merge_mode='concat'))\n",
        "m_bd.add(Dense(1, activation='sigmoid'))\n",
        "m_bd.summary()\n",
        "m_bd.compile(optimizer='rmsprop',loss='binary_crossentropy',metrics=['acc'])\n",
        "m_bd.fit(X_train,y_train, epochs=10, batch_size=128, validation_data=(X_test, y_test))"
      ],
      "execution_count": null,
      "outputs": [
        {
          "output_type": "stream",
          "text": [
            "Model: \"sequential_27\"\n",
            "_________________________________________________________________\n",
            "Layer (type)                 Output Shape              Param #   \n",
            "=================================================================\n",
            "embedding_26 (Embedding)     (None, None, 32)          320000    \n",
            "_________________________________________________________________\n",
            "bidirectional_24 (Bidirectio (None, 64)                16640     \n",
            "_________________________________________________________________\n",
            "dense_25 (Dense)             (None, 1)                 65        \n",
            "=================================================================\n",
            "Total params: 336,705\n",
            "Trainable params: 336,705\n",
            "Non-trainable params: 0\n",
            "_________________________________________________________________\n",
            "Epoch 1/10\n",
            "55/55 [==============================] - 121s 2s/step - loss: 0.6933 - acc: 0.4967 - val_loss: 0.6934 - val_acc: 0.4910\n",
            "Epoch 2/10\n",
            "55/55 [==============================] - 116s 2s/step - loss: 0.6863 - acc: 0.5607 - val_loss: 0.6906 - val_acc: 0.5267\n",
            "Epoch 3/10\n",
            "55/55 [==============================] - 116s 2s/step - loss: 0.6680 - acc: 0.6039 - val_loss: 0.6877 - val_acc: 0.5383\n",
            "Epoch 4/10\n",
            "55/55 [==============================] - 117s 2s/step - loss: 0.6373 - acc: 0.6459 - val_loss: 0.6913 - val_acc: 0.5480\n",
            "Epoch 5/10\n",
            "55/55 [==============================] - 117s 2s/step - loss: 0.6509 - acc: 0.6600 - val_loss: 0.6983 - val_acc: 0.5590\n",
            "Epoch 6/10\n",
            "55/55 [==============================] - 117s 2s/step - loss: 0.5894 - acc: 0.6896 - val_loss: 0.7045 - val_acc: 0.5660\n",
            "Epoch 7/10\n",
            "55/55 [==============================] - 109s 2s/step - loss: 0.9237 - acc: 0.5647 - val_loss: 0.6966 - val_acc: 0.4890\n",
            "Epoch 8/10\n",
            "55/55 [==============================] - 107s 2s/step - loss: 0.6755 - acc: 0.6136 - val_loss: 0.6883 - val_acc: 0.5313\n",
            "Epoch 9/10\n",
            "55/55 [==============================] - 106s 2s/step - loss: 0.6545 - acc: 0.6524 - val_loss: 0.6909 - val_acc: 0.5503\n",
            "Epoch 10/10\n",
            "55/55 [==============================] - 106s 2s/step - loss: 0.6282 - acc: 0.6547 - val_loss: 0.7006 - val_acc: 0.5320\n"
          ],
          "name": "stdout"
        },
        {
          "output_type": "execute_result",
          "data": {
            "text/plain": [
              "<tensorflow.python.keras.callbacks.History at 0x7fb5ea418c90>"
            ]
          },
          "metadata": {
            "tags": []
          },
          "execution_count": 112
        }
      ]
    },
    {
      "cell_type": "code",
      "metadata": {
        "id": "l_TM_XpMROV7"
      },
      "source": [
        "m_bd.save('/content/drive/MyDrive/딥러닝/과제/m_bd.h5')"
      ],
      "execution_count": null,
      "outputs": []
    },
    {
      "cell_type": "code",
      "metadata": {
        "id": "cVI0RXDUki0n"
      },
      "source": [
        "seq = sequence.pad_sequences(seq, maxlen=10000) "
      ],
      "execution_count": null,
      "outputs": []
    },
    {
      "cell_type": "code",
      "metadata": {
        "id": "6Qmy3TvpBn7p"
      },
      "source": [
        "new_x = m_bd.predict(seq)\n",
        "new_y = data['Insult'].values\n",
        "x_train_tf,x_test_tf,y_train_tf,y_test_tf =train_test_split(new_x, new_y, test_size=0.3,random_state=42) "
      ],
      "execution_count": null,
      "outputs": []
    },
    {
      "cell_type": "code",
      "metadata": {
        "id": "h674A5jvEfzE"
      },
      "source": [
        "x_train,x_test,y_train,y_test = train_test_split(seq, data['Insult'].values, test_size=0.3,random_state=42)"
      ],
      "execution_count": null,
      "outputs": []
    },
    {
      "cell_type": "code",
      "metadata": {
        "colab": {
          "background_save": true
        },
        "id": "S46fjR8tF_5D"
      },
      "source": [
        "m_bd2=Sequential()\n",
        "m_bd2.add(Embedding(max_features,32))\n",
        "m_bd2.add(Bidirectional(SimpleRNN(32),merge_mode='concat'))\n",
        "m_bd2.add(Dense(1, activation='sigmoid'))\n",
        "m_bd2.summary()\n",
        "m_bd2.compile(optimizer='rmsprop',loss='binary_crossentropy',metrics=['acc'])\n",
        "m_bd2.fit(x_train,y_train, epochs=5,batch_size=64)\n",
        "simple_test = (m_bd2.predict_proba(x_test) >= 0.5).astype(bool)\n",
        "\n",
        "precision, recall, thresholds = precision_recall_curve(y_test, simple_test)\n",
        "auc_precision_recall = auc(recall, precision)\n",
        "print(\"Test:\\n\",\"F1 score(micro) / F1 score(macro) / PR-AUC / ROC-AUC \\n\",round(f1_score(y_test,simple_test, average=\"micro\"),5),'         /' ,\n",
        "      round(f1_score(y_test,simple_test, average=\"macro\"),5),'  /' ,\n",
        "      round(auc_precision_recall,5), '    /' ,round(roc_auc_score(y_test,simple_test),5))"
      ],
      "execution_count": null,
      "outputs": []
    },
    {
      "cell_type": "code",
      "metadata": {
        "colab": {
          "base_uri": "https://localhost:8080/"
        },
        "id": "mxw1vgQRF_7T",
        "outputId": "4e7895e7-27ed-48b4-cdd9-d081533f2922"
      },
      "source": [
        "m_bd2=Sequential()\n",
        "m_bd2.add(m_bd)\n",
        "m_bd2.add(Embedding(max_features,64))\n",
        "m_bd2.add(Dropout(0.2))\n",
        "m_bd2.add(Bidirectional(SimpleRNN(64),merge_mode='concat'))\n",
        "m_bd2.add(Dense(1, activation='sigmoid'))\n",
        "m_bd2.summary()\n",
        "callback_list=[EarlyStopping(monitor='val_auc', patience=2)]\n",
        "m_bd2.compile(optimizer='rmsprop',loss='binary_crossentropy', metrics=['AUC'])"
      ],
      "execution_count": null,
      "outputs": [
        {
          "output_type": "stream",
          "text": [
            "Model: \"sequential_30\"\n",
            "_________________________________________________________________\n",
            "Layer (type)                 Output Shape              Param #   \n",
            "=================================================================\n",
            "sequential_27 (Sequential)   (None, 1)                 336705    \n",
            "_________________________________________________________________\n",
            "embedding_29 (Embedding)     (None, 1, 64)             640000    \n",
            "_________________________________________________________________\n",
            "dropout_12 (Dropout)         (None, 1, 64)             0         \n",
            "_________________________________________________________________\n",
            "bidirectional_27 (Bidirectio (None, 128)               16512     \n",
            "_________________________________________________________________\n",
            "dense_28 (Dense)             (None, 1)                 129       \n",
            "=================================================================\n",
            "Total params: 993,346\n",
            "Trainable params: 993,346\n",
            "Non-trainable params: 0\n",
            "_________________________________________________________________\n"
          ],
          "name": "stdout"
        }
      ]
    },
    {
      "cell_type": "code",
      "metadata": {
        "colab": {
          "base_uri": "https://localhost:8080/"
        },
        "id": "2pAYWDYPtanm",
        "outputId": "f26ea6b7-7c1b-4d81-e470-b1a640a8b096"
      },
      "source": [
        "m_bd2.fit(x_train,y_train, epochs=5,batch_size=128, validation_data=(x_test, y_test), callbacks=callback_list)\n",
        "simple_test_tf = (m_bd2.predict_proba(x_test) >= 0.5).astype(bool)\n",
        "\n",
        "precision, recall, thresholds = precision_recall_curve(y_test_tf, simple_test_tf)\n",
        "auc_precision_recall = auc(recall, precision)\n",
        "print(\"Test:\\n\",\"F1 score(micro) / F1 score(macro) / PR-AUC / ROC-AUC \\n\",round(f1_score(y_test_tf,simple_test_tf, average=\"micro\"),5),'        /' ,\n",
        "      round(f1_score(y_test_tf,simple_test_tf, average=\"macro\"),5),'   /' ,\n",
        "      round(auc_precision_recall,5), '    /' ,round(roc_auc_score(y_test_tf,simple_test_tf),5))"
      ],
      "execution_count": null,
      "outputs": [
        {
          "output_type": "stream",
          "text": [
            "Epoch 1/5\n",
            "WARNING:tensorflow:Gradients do not exist for variables ['embedding_26/embeddings:0', 'bidirectional_24/forward_lstm_6/lstm_cell_19/kernel:0', 'bidirectional_24/forward_lstm_6/lstm_cell_19/recurrent_kernel:0', 'bidirectional_24/forward_lstm_6/lstm_cell_19/bias:0', 'bidirectional_24/backward_lstm_6/lstm_cell_20/kernel:0', 'bidirectional_24/backward_lstm_6/lstm_cell_20/recurrent_kernel:0', 'bidirectional_24/backward_lstm_6/lstm_cell_20/bias:0', 'dense_25/kernel:0', 'dense_25/bias:0'] when minimizing the loss.\n",
            "WARNING:tensorflow:Gradients do not exist for variables ['embedding_26/embeddings:0', 'bidirectional_24/forward_lstm_6/lstm_cell_19/kernel:0', 'bidirectional_24/forward_lstm_6/lstm_cell_19/recurrent_kernel:0', 'bidirectional_24/forward_lstm_6/lstm_cell_19/bias:0', 'bidirectional_24/backward_lstm_6/lstm_cell_20/kernel:0', 'bidirectional_24/backward_lstm_6/lstm_cell_20/recurrent_kernel:0', 'bidirectional_24/backward_lstm_6/lstm_cell_20/bias:0', 'dense_25/kernel:0', 'dense_25/bias:0'] when minimizing the loss.\n",
            "22/22 [==============================] - 28s 1s/step - loss: 0.5930 - auc: 0.5023 - val_loss: 0.5820 - val_auc: 0.5000\n",
            "Epoch 2/5\n",
            "22/22 [==============================] - 23s 1s/step - loss: 0.5789 - auc: 0.5060 - val_loss: 0.5812 - val_auc: 0.5000\n",
            "Epoch 3/5\n",
            "22/22 [==============================] - 23s 1s/step - loss: 0.5802 - auc: 0.4792 - val_loss: 0.5827 - val_auc: 0.5000\n",
            "Test:\n",
            " F1 score(micro) / F1 score(macro) / PR-AUC / ROC-AUC \n",
            " 0.73249         / 0.4228    / 0.63376     / 0.5\n"
          ],
          "name": "stdout"
        }
      ]
    },
    {
      "cell_type": "code",
      "metadata": {
        "colab": {
          "base_uri": "https://localhost:8080/"
        },
        "id": "fc_7jwUxGAAx",
        "outputId": "ecbfa441-1d40-4859-e808-5aad3746a25f"
      },
      "source": [
        "m_bd2=Sequential()\n",
        "m_bd2.add(Embedding(max_features,64))\n",
        "m_bd2.add(Dropout(0.2))\n",
        "m_bd2.add(Bidirectional(LSTM(64),merge_mode='concat'))\n",
        "m_bd2.add(Dense(1, activation='sigmoid'))\n",
        "m_bd2.summary()\n",
        "callback_list=[EarlyStopping(monitor='val_auc', patience=2)]\n",
        "m_bd2.compile(optimizer='rmsprop',loss='binary_crossentropy', metrics=['AUC'])\n",
        "m_bd2.fit(x_train_tf,y_train_tf, epochs=5,batch_size=128, validation_data=(x_test_tf, y_test_tf), callbacks=callback_list)\n",
        "simple_test_tf = (m_bd2.predict_proba(x_test_tf) >= 0.5).astype(bool)\n",
        "\n",
        "precision, recall, thresholds = precision_recall_curve(y_test_tf, simple_test_tf)\n",
        "auc_precision_recall = auc(recall, precision)\n",
        "print(\"Test:\\n\",\"F1 score(micro) / F1 score(macro) / PR-AUC / ROC-AUC \\n\",round(f1_score(y_test_tf,simple_test_tf, average=\"micro\"),5),'        /' ,\n",
        "      round(f1_score(y_test_tf,simple_test_tf, average=\"macro\"),5),'   /' ,\n",
        "      round(auc_precision_recall,5), '    /' ,round(roc_auc_score(y_test_tf,simple_test_tf),5))"
      ],
      "execution_count": null,
      "outputs": [
        {
          "output_type": "stream",
          "text": [
            "Model: \"sequential_26\"\n",
            "_________________________________________________________________\n",
            "Layer (type)                 Output Shape              Param #   \n",
            "=================================================================\n",
            "embedding_25 (Embedding)     (None, None, 64)          640000    \n",
            "_________________________________________________________________\n",
            "dropout_10 (Dropout)         (None, None, 64)          0         \n",
            "_________________________________________________________________\n",
            "bidirectional_23 (Bidirectio (None, 128)               66048     \n",
            "_________________________________________________________________\n",
            "dense_24 (Dense)             (None, 1)                 129       \n",
            "=================================================================\n",
            "Total params: 706,177\n",
            "Trainable params: 706,177\n",
            "Non-trainable params: 0\n",
            "_________________________________________________________________\n",
            "Epoch 1/5\n",
            "22/22 [==============================] - 6s 57ms/step - loss: 0.6293 - auc: 0.5140 - val_loss: 0.5843 - val_auc: 0.5000\n",
            "Epoch 2/5\n",
            "22/22 [==============================] - 0s 11ms/step - loss: 0.5796 - auc: 0.4993 - val_loss: 0.5810 - val_auc: 0.5000\n",
            "Epoch 3/5\n",
            "22/22 [==============================] - 0s 12ms/step - loss: 0.5786 - auc: 0.5104 - val_loss: 0.5820 - val_auc: 0.5000\n",
            "Test:\n",
            " F1 score(micro) / F1 score(macro) / PR-AUC / ROC-AUC \n",
            " 0.73249         / 0.4228    / 0.63376     / 0.5\n"
          ],
          "name": "stdout"
        }
      ]
    },
    {
      "cell_type": "code",
      "metadata": {
        "id": "bpICM0qya0EK",
        "colab": {
          "base_uri": "https://localhost:8080/"
        },
        "outputId": "be32648d-cd5b-4004-f262-720c7a4c9bcc"
      },
      "source": [
        "model_gl=Sequential()\n",
        "model_gl.add(Embedding(max_words,embedding_dim,input_length=maxlen))\n",
        "model_gl.add(Dropout(0.2))\n",
        "model_gl.add(Conv1D(64,7,activation='relu')) \n",
        "model_gl.add(MaxPooling1D(5))\n",
        "model_gl.add(Conv1D(64,7,activation='relu'))\n",
        "model_gl.add(GlobalMaxPooling1D())\n",
        "model_gl.add(Dropout(0.2))\n",
        "model_gl.add(Dense(1,activation='sigmoid', kernel_regularizer='l2'))\n",
        "model_gl.summary()\n",
        "callback_list=[EarlyStopping(monitor='val_auc', patience=2)]\n",
        "\n",
        "model_gl.layers[0].set_weights([embedding_matrix])\n",
        "model_gl.layers[0].trainable=False\n",
        "\n",
        "model_gl.compile(optimizer='rmsprop',loss='binary_crossentropy', metrics=['AUC'])\n",
        "gl_result = model_gl.fit(x_train,y_train, epochs=5, batch_size=128, validation_data=(x_test, y_test), callbacks=callback_list)\n",
        "\n",
        "train_tf = model_gl.predict_classes(x_train)\n",
        "precision, recall, thresholds = precision_recall_curve(y_train, train_tf)\n",
        "auc_precision_recall = auc(recall, precision)\n",
        "print(\"Train:\\n\",\"F1 score(micro) / F1 score(macro) / PR-AUC / ROC-AUC \\n\",round(f1_score(y_train,train_tf, average=\"micro\"),5),'        /' ,\n",
        "      round(f1_score(y_train,train_tf, average=\"macro\"),5),'   /' ,\n",
        "      round(auc_precision_recall,5), '    /' ,round(roc_auc_score(y_train,train_tf),5))\n",
        "\n",
        "test_tf = model_gl.predict_classes(x_test)\n",
        "precision, recall, thresholds = precision_recall_curve(y_test, test_tf)\n",
        "auc_precision_recall = auc(recall, precision)\n",
        "print(\"Test:\\n\",\"F1 score(micro) / F1 score(macro) / PR-AUC / ROC-AUC \\n\",round(f1_score(y_test,test_tf, average=\"micro\"),5),'        /' ,\n",
        "      round(f1_score(y_test,test_tf, average=\"macro\"),5),'   /' ,\n",
        "      round(auc_precision_recall,5), '    /' ,round(roc_auc_score(y_test,test_tf),5))"
      ],
      "execution_count": null,
      "outputs": [
        {
          "output_type": "stream",
          "text": [
            "Model: \"sequential_11\"\n",
            "_________________________________________________________________\n",
            "Layer (type)                 Output Shape              Param #   \n",
            "=================================================================\n",
            "embedding_11 (Embedding)     (None, 100, 100)          1000000   \n",
            "_________________________________________________________________\n",
            "dropout_9 (Dropout)          (None, 100, 100)          0         \n",
            "_________________________________________________________________\n",
            "conv1d_5 (Conv1D)            (None, 94, 64)            44864     \n",
            "_________________________________________________________________\n",
            "max_pooling1d_1 (MaxPooling1 (None, 18, 64)            0         \n",
            "_________________________________________________________________\n",
            "conv1d_6 (Conv1D)            (None, 12, 64)            28736     \n",
            "_________________________________________________________________\n",
            "global_max_pooling1d_1 (Glob (None, 64)                0         \n",
            "_________________________________________________________________\n",
            "dropout_10 (Dropout)         (None, 64)                0         \n",
            "_________________________________________________________________\n",
            "dense_5 (Dense)              (None, 1)                 65        \n",
            "=================================================================\n",
            "Total params: 1,073,665\n",
            "Trainable params: 1,073,665\n",
            "Non-trainable params: 0\n",
            "_________________________________________________________________\n",
            "Epoch 1/5\n",
            "22/22 [==============================] - 28s 34ms/step - loss: 0.6321 - auc: 0.5281 - val_loss: 0.5900 - val_auc: 0.6437\n",
            "Epoch 2/5\n",
            "22/22 [==============================] - 0s 8ms/step - loss: 0.5755 - auc: 0.6217 - val_loss: 0.6080 - val_auc: 0.6304\n",
            "Epoch 3/5\n",
            "22/22 [==============================] - 0s 8ms/step - loss: 0.5472 - auc: 0.6794 - val_loss: 0.5453 - val_auc: 0.6943\n",
            "Epoch 4/5\n",
            "22/22 [==============================] - 0s 9ms/step - loss: 0.5320 - auc: 0.7026 - val_loss: 0.6333 - val_auc: 0.6107\n",
            "Epoch 5/5\n",
            "22/22 [==============================] - 0s 9ms/step - loss: 0.5214 - auc: 0.7225 - val_loss: 0.5386 - val_auc: 0.7155\n",
            "Train:\n",
            " F1 score(micro) / F1 score(macro) / PR-AUC / ROC-AUC \n",
            " 0.76177         / 0.52789    / 0.63779     / 0.55317\n",
            "Test:\n",
            " F1 score(micro) / F1 score(macro) / PR-AUC / ROC-AUC \n",
            " 0.74262         / 0.47506    / 0.53976     / 0.52393\n"
          ],
          "name": "stdout"
        }
      ]
    },
    {
      "cell_type": "code",
      "metadata": {
        "colab": {
          "base_uri": "https://localhost:8080/"
        },
        "id": "K34jVF_nR7Nb",
        "outputId": "d9c981e1-34a7-416d-c6eb-b6a284866090"
      },
      "source": [
        "model_gl=Sequential()\n",
        "model_gl.add(Embedding(max_words,embedding_dim,input_length=maxlen))\n",
        "model_gl.add(Bidirectional(SimpleRNN(64),merge_mode='concat'))\n",
        "model_gl.add(Dropout(0.1))\n",
        "model_gl.add(Flatten())\n",
        "model_gl.add(Dropout(0.3))\n",
        "model_gl.add(Dense(1,activation='sigmoid', kernel_regularizer='l2'))\n",
        "model_gl.summary()\n",
        "callback_list=[EarlyStopping(monitor='val_auc', patience=2)]\n",
        "\n",
        "model_gl.layers[0].set_weights([embedding_matrix])\n",
        "model_gl.layers[0].trainable=False\n",
        "\n",
        "model_gl.compile(optimizer='rmsprop',loss='binary_crossentropy', metrics=['AUC'])\n",
        "gl_result = model_gl.fit(x_train,y_train, epochs=5, batch_size=128, validation_data=(x_test, y_test), callbacks=callback_list)\n",
        "\n",
        "train_tf = model_gl.predict_classes(x_train)\n",
        "precision, recall, thresholds = precision_recall_curve(y_train, train_tf)\n",
        "auc_precision_recall = auc(recall, precision)\n",
        "print(\"Train:\\n\",\"F1 score(micro) / F1 score(macro) / PR-AUC / ROC-AUC \\n\",round(f1_score(y_train,train_tf, average=\"micro\"),5),'        /' ,\n",
        "      round(f1_score(y_train,train_tf, average=\"macro\"),5),'   /' ,\n",
        "      round(auc_precision_recall,5), '    /' ,round(roc_auc_score(y_train,train_tf),5))\n",
        "\n",
        "test_tf = model_gl.predict_classes(x_test)\n",
        "precision, recall, thresholds = precision_recall_curve(y_test, test_tf)\n",
        "auc_precision_recall = auc(recall, precision)\n",
        "print(\"Test:\\n\",\"F1 score(micro) / F1 score(macro) / PR-AUC / ROC-AUC \\n\",round(f1_score(y_test,test_tf, average=\"micro\"),5),'        /' ,\n",
        "      round(f1_score(y_test,test_tf, average=\"macro\"),5),'   /' ,\n",
        "      round(auc_precision_recall,5), '    /' ,round(roc_auc_score(y_test,test_tf),5))"
      ],
      "execution_count": null,
      "outputs": [
        {
          "output_type": "stream",
          "text": [
            "Model: \"sequential_12\"\n",
            "_________________________________________________________________\n",
            "Layer (type)                 Output Shape              Param #   \n",
            "=================================================================\n",
            "embedding_12 (Embedding)     (None, 100, 100)          1000000   \n",
            "_________________________________________________________________\n",
            "bidirectional_10 (Bidirectio (None, 128)               21120     \n",
            "_________________________________________________________________\n",
            "dropout_11 (Dropout)         (None, 128)               0         \n",
            "_________________________________________________________________\n",
            "flatten_5 (Flatten)          (None, 128)               0         \n",
            "_________________________________________________________________\n",
            "dropout_12 (Dropout)         (None, 128)               0         \n",
            "_________________________________________________________________\n",
            "dense_6 (Dense)              (None, 1)                 129       \n",
            "=================================================================\n",
            "Total params: 1,021,249\n",
            "Trainable params: 1,021,249\n",
            "Non-trainable params: 0\n",
            "_________________________________________________________________\n",
            "Epoch 1/5\n",
            "22/22 [==============================] - 5s 162ms/step - loss: 0.5870 - auc: 0.6354 - val_loss: 0.5533 - val_auc: 0.6974\n",
            "Epoch 2/5\n",
            "22/22 [==============================] - 3s 142ms/step - loss: 0.5283 - auc: 0.7235 - val_loss: 0.5286 - val_auc: 0.7285\n",
            "Epoch 3/5\n",
            "22/22 [==============================] - 3s 149ms/step - loss: 0.5053 - auc: 0.7568 - val_loss: 0.5216 - val_auc: 0.7434\n",
            "Train:\n",
            " F1 score(micro) / F1 score(macro) / PR-AUC / ROC-AUC \n",
            " 0.79725         / 0.67313    / 0.63912     / 0.65155\n",
            "Test:\n",
            " F1 score(micro) / F1 score(macro) / PR-AUC / ROC-AUC \n",
            " 0.77131         / 0.63629    / 0.57344     / 0.62262\n"
          ],
          "name": "stdout"
        }
      ]
    },
    {
      "cell_type": "code",
      "metadata": {
        "colab": {
          "base_uri": "https://localhost:8080/"
        },
        "id": "pvfJkWftR7UV",
        "outputId": "3095ae57-4d09-49d8-d1fe-105e90167583"
      },
      "source": [
        "model_gl=Sequential()\n",
        "model_gl.add(Embedding(max_words,embedding_dim,input_length=maxlen))\n",
        "model_gl.add(Bidirectional(GRU(64),merge_mode='concat'))\n",
        "model_gl.add(Dropout(0.1))\n",
        "model_gl.add(Flatten())\n",
        "model_gl.add(Dropout(0.3))\n",
        "model_gl.add(Dense(1,activation='sigmoid', kernel_regularizer='l2'))\n",
        "model_gl.summary()\n",
        "callback_list=[EarlyStopping(monitor='val_auc', patience=2)]\n",
        "\n",
        "model_gl.layers[0].set_weights([embedding_matrix])\n",
        "model_gl.layers[0].trainable=False\n",
        "\n",
        "model_gl.compile(optimizer='rmsprop',loss='binary_crossentropy', metrics=['AUC'])\n",
        "gl_result = model_gl.fit(x_train,y_train, epochs=5, batch_size=128, validation_data=(x_test, y_test), callbacks=callback_list)\n",
        "\n",
        "train_tf = model_gl.predict_classes(x_train)\n",
        "precision, recall, thresholds = precision_recall_curve(y_train, train_tf)\n",
        "auc_precision_recall = auc(recall, precision)\n",
        "print(\"Train:\\n\",\"F1 score(micro) / F1 score(macro) / PR-AUC / ROC-AUC \\n\",round(f1_score(y_train,train_tf, average=\"micro\"),5),'        /' ,\n",
        "      round(f1_score(y_train,train_tf, average=\"macro\"),5),'   /' ,\n",
        "      round(auc_precision_recall,5), '    /' ,round(roc_auc_score(y_train,train_tf),5))\n",
        "\n",
        "test_tf = model_gl.predict_classes(x_test)\n",
        "precision, recall, thresholds = precision_recall_curve(y_test, test_tf)\n",
        "auc_precision_recall = auc(recall, precision)\n",
        "print(\"Test:\\n\",\"F1 score(micro) / F1 score(macro) / PR-AUC / ROC-AUC \\n\",round(f1_score(y_test,test_tf, average=\"micro\"),5),'        /' ,\n",
        "      round(f1_score(y_test,test_tf, average=\"macro\"),5),'   /' ,\n",
        "      round(auc_precision_recall,5), '    /' ,round(roc_auc_score(y_test,test_tf),5))"
      ],
      "execution_count": null,
      "outputs": [
        {
          "output_type": "stream",
          "text": [
            "Model: \"sequential_14\"\n",
            "_________________________________________________________________\n",
            "Layer (type)                 Output Shape              Param #   \n",
            "=================================================================\n",
            "embedding_14 (Embedding)     (None, 100, 100)          1000000   \n",
            "_________________________________________________________________\n",
            "bidirectional_11 (Bidirectio (None, 128)               63744     \n",
            "_________________________________________________________________\n",
            "dropout_13 (Dropout)         (None, 128)               0         \n",
            "_________________________________________________________________\n",
            "flatten_6 (Flatten)          (None, 128)               0         \n",
            "_________________________________________________________________\n",
            "dropout_14 (Dropout)         (None, 128)               0         \n",
            "_________________________________________________________________\n",
            "dense_7 (Dense)              (None, 1)                 129       \n",
            "=================================================================\n",
            "Total params: 1,063,873\n",
            "Trainable params: 1,063,873\n",
            "Non-trainable params: 0\n",
            "_________________________________________________________________\n",
            "Epoch 1/5\n",
            "22/22 [==============================] - 5s 56ms/step - loss: 0.5838 - auc: 0.6300 - val_loss: 0.5294 - val_auc: 0.7437\n",
            "Epoch 2/5\n",
            "22/22 [==============================] - 0s 16ms/step - loss: 0.5194 - auc: 0.7372 - val_loss: 0.5001 - val_auc: 0.7774\n",
            "Epoch 3/5\n",
            "22/22 [==============================] - 0s 17ms/step - loss: 0.4859 - auc: 0.7818 - val_loss: 0.4792 - val_auc: 0.8016\n",
            "Train:\n",
            " F1 score(micro) / F1 score(macro) / PR-AUC / ROC-AUC \n",
            " 0.80014         / 0.7143    / 0.64443     / 0.69633\n",
            "Test:\n",
            " F1 score(micro) / F1 score(macro) / PR-AUC / ROC-AUC \n",
            " 0.77722         / 0.68425    / 0.60324     / 0.6697\n"
          ],
          "name": "stdout"
        }
      ]
    },
    {
      "cell_type": "code",
      "metadata": {
        "colab": {
          "base_uri": "https://localhost:8080/"
        },
        "id": "oq1EMg84R7WI",
        "outputId": "0b834e01-8c37-4b88-a826-dc80f9e46a45"
      },
      "source": [
        "model_gl=Sequential()\n",
        "model_gl.add(Embedding(max_words,embedding_dim,input_length=maxlen))\n",
        "model_gl.add(Dropout(0.2))\n",
        "model_gl.add(Conv1D(32,7,activation='relu'))\n",
        "model_gl.add(MaxPooling1D(5))\n",
        "model_gl.add(Conv1D(32,7,activation='relu'))\n",
        "model_gl.add(GlobalMaxPooling1D())\n",
        "model_gl.add(Dense(1, activation='sigmoid'))\n",
        "model_gl.summary()\n",
        "callback_list=[EarlyStopping(monitor='val_auc', patience=2)]\n",
        "\n",
        "model_gl.layers[0].set_weights([embedding_matrix])\n",
        "model_gl.layers[0].trainable=False\n",
        "\n",
        "model_gl.compile(optimizer='rmsprop',loss='binary_crossentropy', metrics=['AUC'])\n",
        "gl_result = model_gl.fit(x_train,y_train, epochs=5, batch_size=128, validation_data=(x_test, y_test), callbacks=callback_list)\n",
        "\n",
        "train_tf = model_gl.predict_classes(x_train)\n",
        "precision, recall, thresholds = precision_recall_curve(y_train, train_tf)\n",
        "auc_precision_recall = auc(recall, precision)\n",
        "print(\"Train:\\n\",\"F1 score(micro) / F1 score(macro) / PR-AUC / ROC-AUC \\n\",round(f1_score(y_train,train_tf, average=\"micro\"),5),'        /' ,\n",
        "      round(f1_score(y_train,train_tf, average=\"macro\"),5),'   /' ,\n",
        "      round(auc_precision_recall,5), '    /' ,round(roc_auc_score(y_train,train_tf),5))\n",
        "\n",
        "test_tf = model_gl.predict_classes(x_test)\n",
        "precision, recall, thresholds = precision_recall_curve(y_test, test_tf)\n",
        "auc_precision_recall = auc(recall, precision)\n",
        "print(\"Test:\\n\",\"F1 score(micro) / F1 score(macro) / PR-AUC / ROC-AUC \\n\",round(f1_score(y_test,test_tf, average=\"micro\"),5),'        /' ,\n",
        "      round(f1_score(y_test,test_tf, average=\"macro\"),5),'   /' ,\n",
        "      round(auc_precision_recall,5), '    /' ,round(roc_auc_score(y_test,test_tf),5))"
      ],
      "execution_count": null,
      "outputs": [
        {
          "output_type": "stream",
          "text": [
            "Model: \"sequential_15\"\n",
            "_________________________________________________________________\n",
            "Layer (type)                 Output Shape              Param #   \n",
            "=================================================================\n",
            "embedding_15 (Embedding)     (None, 100, 100)          1000000   \n",
            "_________________________________________________________________\n",
            "dropout_15 (Dropout)         (None, 100, 100)          0         \n",
            "_________________________________________________________________\n",
            "conv1d_7 (Conv1D)            (None, 94, 32)            22432     \n",
            "_________________________________________________________________\n",
            "max_pooling1d_2 (MaxPooling1 (None, 18, 32)            0         \n",
            "_________________________________________________________________\n",
            "conv1d_8 (Conv1D)            (None, 12, 32)            7200      \n",
            "_________________________________________________________________\n",
            "global_max_pooling1d_2 (Glob (None, 32)                0         \n",
            "_________________________________________________________________\n",
            "dense_8 (Dense)              (None, 1)                 33        \n",
            "=================================================================\n",
            "Total params: 1,029,665\n",
            "Trainable params: 1,029,665\n",
            "Non-trainable params: 0\n",
            "_________________________________________________________________\n",
            "Epoch 1/5\n",
            "22/22 [==============================] - 2s 30ms/step - loss: 0.6127 - auc: 0.5391 - val_loss: 0.5699 - val_auc: 0.6052\n",
            "Epoch 2/5\n",
            "22/22 [==============================] - 0s 7ms/step - loss: 0.5650 - auc: 0.6113 - val_loss: 0.5411 - val_auc: 0.6669\n",
            "Epoch 3/5\n",
            "22/22 [==============================] - 0s 8ms/step - loss: 0.5323 - auc: 0.6778 - val_loss: 0.5919 - val_auc: 0.6510\n",
            "Train:\n",
            " F1 score(micro) / F1 score(macro) / PR-AUC / ROC-AUC \n",
            " 0.72882         / 0.59108    / 0.47548     / 0.58535\n",
            "Test:\n",
            " F1 score(micro) / F1 score(macro) / PR-AUC / ROC-AUC \n",
            " 0.69198         / 0.53673    / 0.39523     / 0.53943\n"
          ],
          "name": "stdout"
        }
      ]
    },
    {
      "cell_type": "code",
      "metadata": {
        "id": "UqvlqxSL_0IQ"
      },
      "source": [
        ""
      ],
      "execution_count": null,
      "outputs": []
    }
  ]
}
